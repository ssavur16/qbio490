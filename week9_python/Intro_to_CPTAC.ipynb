{
 "cells": [
  {
   "cell_type": "markdown",
   "id": "9f3b6a87",
   "metadata": {},
   "source": [
    "# Introduction to CPTAC and Proteomics\n",
    "\n",
    "This document will take you through the basics of CPTAC and analyzing proteomic data in python. Let's get started!"
   ]
  },
  {
   "cell_type": "markdown",
   "id": "64ad08b5",
   "metadata": {},
   "source": [
    "## Setting up your working directory\n",
    "\n",
    "Set your working directory to your analysis_data folder."
   ]
  },
  {
   "cell_type": "code",
   "execution_count": 1,
   "id": "a53acaad",
   "metadata": {},
   "outputs": [],
   "source": [
    "import os\n",
    "\n",
    "os.chdir('/Users/Owner/Documents/USC/Senior Year/qbio490/qbio_490_sonia/analysis_data')"
   ]
  },
  {
   "cell_type": "markdown",
   "id": "bcf734ad",
   "metadata": {},
   "source": [
    "### Start exploring CPTAC with `cptac`\n",
    "Similar to TCGAbiolinks, we need to load the package and download the data before using.\n",
    "1. Import the package (`cptac`).\n",
    "2. Look at the data sets available to us with the list_datasets() function. As a reminder, remember the package_name.method() syntax!\n",
    "3. Download the cancer you'll be working with. \n",
    "4. Load it into our python environment."
   ]
  },
  {
   "cell_type": "code",
   "execution_count": 2,
   "id": "3274cad7",
   "metadata": {},
   "outputs": [
    {
     "name": "stderr",
     "output_type": "stream",
     "text": [
      "cptac warning: Your version of cptac (1.1.2) is out-of-date. Latest is 1.5.13. Please run 'pip install --upgrade cptac' to update it. (C:\\Users\\Owner\\anaconda3_new\\Lib\\threading.py, line 975)\n"
     ]
    },
    {
     "data": {
      "text/html": [
       "<div>\n",
       "<style scoped>\n",
       "    .dataframe tbody tr th:only-of-type {\n",
       "        vertical-align: middle;\n",
       "    }\n",
       "\n",
       "    .dataframe tbody tr th {\n",
       "        vertical-align: top;\n",
       "    }\n",
       "\n",
       "    .dataframe thead th {\n",
       "        text-align: right;\n",
       "    }\n",
       "</style>\n",
       "<table border=\"1\" class=\"dataframe\">\n",
       "  <thead>\n",
       "    <tr style=\"text-align: right;\">\n",
       "      <th></th>\n",
       "      <th>Description</th>\n",
       "      <th>Data reuse status</th>\n",
       "      <th>Publication link</th>\n",
       "    </tr>\n",
       "    <tr>\n",
       "      <th>Dataset name</th>\n",
       "      <th></th>\n",
       "      <th></th>\n",
       "      <th></th>\n",
       "    </tr>\n",
       "  </thead>\n",
       "  <tbody>\n",
       "    <tr>\n",
       "      <th>Brca</th>\n",
       "      <td>breast cancer</td>\n",
       "      <td>no restrictions</td>\n",
       "      <td>https://pubmed.ncbi.nlm.nih.gov/33212010/</td>\n",
       "    </tr>\n",
       "    <tr>\n",
       "      <th>Ccrcc</th>\n",
       "      <td>clear cell renal cell carcinoma (kidney)</td>\n",
       "      <td>no restrictions</td>\n",
       "      <td>https://pubmed.ncbi.nlm.nih.gov/31675502/</td>\n",
       "    </tr>\n",
       "    <tr>\n",
       "      <th>Colon</th>\n",
       "      <td>colorectal cancer</td>\n",
       "      <td>no restrictions</td>\n",
       "      <td>https://pubmed.ncbi.nlm.nih.gov/31031003/</td>\n",
       "    </tr>\n",
       "    <tr>\n",
       "      <th>Endometrial</th>\n",
       "      <td>endometrial carcinoma (uterine)</td>\n",
       "      <td>no restrictions</td>\n",
       "      <td>https://pubmed.ncbi.nlm.nih.gov/32059776/</td>\n",
       "    </tr>\n",
       "    <tr>\n",
       "      <th>Gbm</th>\n",
       "      <td>glioblastoma</td>\n",
       "      <td>no restrictions</td>\n",
       "      <td>https://pubmed.ncbi.nlm.nih.gov/33577785/</td>\n",
       "    </tr>\n",
       "    <tr>\n",
       "      <th>Hnscc</th>\n",
       "      <td>head and neck squamous cell carcinoma</td>\n",
       "      <td>no restrictions</td>\n",
       "      <td>https://pubmed.ncbi.nlm.nih.gov/33417831/</td>\n",
       "    </tr>\n",
       "    <tr>\n",
       "      <th>Lscc</th>\n",
       "      <td>lung squamous cell carcinoma</td>\n",
       "      <td>no restrictions</td>\n",
       "      <td>https://pubmed.ncbi.nlm.nih.gov/34358469/</td>\n",
       "    </tr>\n",
       "    <tr>\n",
       "      <th>Luad</th>\n",
       "      <td>lung adenocarcinoma</td>\n",
       "      <td>no restrictions</td>\n",
       "      <td>https://pubmed.ncbi.nlm.nih.gov/32649874/</td>\n",
       "    </tr>\n",
       "    <tr>\n",
       "      <th>Ovarian</th>\n",
       "      <td>high grade serous ovarian cancer</td>\n",
       "      <td>no restrictions</td>\n",
       "      <td>https://pubmed.ncbi.nlm.nih.gov/27372738/</td>\n",
       "    </tr>\n",
       "    <tr>\n",
       "      <th>Pdac</th>\n",
       "      <td>pancreatic ductal adenocarcinoma</td>\n",
       "      <td>no restrictions</td>\n",
       "      <td>https://pubmed.ncbi.nlm.nih.gov/34534465/</td>\n",
       "    </tr>\n",
       "    <tr>\n",
       "      <th>UcecConf</th>\n",
       "      <td>endometrial confirmatory carcinoma</td>\n",
       "      <td>password access only</td>\n",
       "      <td>unpublished</td>\n",
       "    </tr>\n",
       "    <tr>\n",
       "      <th>GbmConf</th>\n",
       "      <td>glioblastoma confirmatory</td>\n",
       "      <td>password access only</td>\n",
       "      <td>unpublished</td>\n",
       "    </tr>\n",
       "  </tbody>\n",
       "</table>\n",
       "</div>"
      ],
      "text/plain": [
       "                                           Description     Data reuse status  \\\n",
       "Dataset name                                                                   \n",
       "Brca                                     breast cancer       no restrictions   \n",
       "Ccrcc         clear cell renal cell carcinoma (kidney)       no restrictions   \n",
       "Colon                                colorectal cancer       no restrictions   \n",
       "Endometrial            endometrial carcinoma (uterine)       no restrictions   \n",
       "Gbm                                       glioblastoma       no restrictions   \n",
       "Hnscc            head and neck squamous cell carcinoma       no restrictions   \n",
       "Lscc                      lung squamous cell carcinoma       no restrictions   \n",
       "Luad                               lung adenocarcinoma       no restrictions   \n",
       "Ovarian               high grade serous ovarian cancer       no restrictions   \n",
       "Pdac                  pancreatic ductal adenocarcinoma       no restrictions   \n",
       "UcecConf            endometrial confirmatory carcinoma  password access only   \n",
       "GbmConf                      glioblastoma confirmatory  password access only   \n",
       "\n",
       "                                       Publication link  \n",
       "Dataset name                                             \n",
       "Brca          https://pubmed.ncbi.nlm.nih.gov/33212010/  \n",
       "Ccrcc         https://pubmed.ncbi.nlm.nih.gov/31675502/  \n",
       "Colon         https://pubmed.ncbi.nlm.nih.gov/31031003/  \n",
       "Endometrial   https://pubmed.ncbi.nlm.nih.gov/32059776/  \n",
       "Gbm           https://pubmed.ncbi.nlm.nih.gov/33577785/  \n",
       "Hnscc         https://pubmed.ncbi.nlm.nih.gov/33417831/  \n",
       "Lscc          https://pubmed.ncbi.nlm.nih.gov/34358469/  \n",
       "Luad          https://pubmed.ncbi.nlm.nih.gov/32649874/  \n",
       "Ovarian       https://pubmed.ncbi.nlm.nih.gov/27372738/  \n",
       "Pdac          https://pubmed.ncbi.nlm.nih.gov/34534465/  \n",
       "UcecConf                                    unpublished  \n",
       "GbmConf                                     unpublished  "
      ]
     },
     "execution_count": 2,
     "metadata": {},
     "output_type": "execute_result"
    }
   ],
   "source": [
    "# 1. Import cptac\n",
    "import cptac\n",
    "\n",
    "# 2. Examine the data sets available with list_datasets()\n",
    "cptac.list_datasets()"
   ]
  },
  {
   "cell_type": "code",
   "execution_count": 3,
   "id": "aeb53aa2",
   "metadata": {},
   "outputs": [
    {
     "name": "stdout",
     "output_type": "stream",
     "text": [
      "                                         \r"
     ]
    }
   ],
   "source": [
    "# 3. Download the cancer data set -- fill in dataset!\n",
    "cptac.download(dataset=\"Luad\")\n",
    "\n",
    "# 4. Load the cancer data\n",
    "# ie. brca = cptac.Brca()\n",
    "luad = cptac.Luad()"
   ]
  },
  {
   "cell_type": "markdown",
   "id": "fadf54d4",
   "metadata": {},
   "source": [
    "Now, we have our object containing a bunch of data. We can use the list_data() function the data available for the cancer dataset.\n",
    "<br></br>\n",
    "In addition to the proteomics data, we can also access the accompanying transcriptomics, CNV, etc. using this object. We will focus on the omics which we have already seen for this course; however, other data present in this dataset are also pretty interesting. Finally, many proteins can't be identified very well, so they won't appear as a column (for example, APC isn't in the proteomics data set).\n",
    "<br></br>\n",
    "**Exercise 1.1** Call the list_data() function from the object to examine the different data contained in the object. Much like calling functions from a package, we can use the cancer.function() syntax.\n",
    "\n",
    "* How many patients do you think there are in this dataset? (Make an educated guess about this from the dimensions - we'll confirm your answer later on)"
   ]
  },
  {
   "cell_type": "code",
   "execution_count": 4,
   "id": "f96afeaf",
   "metadata": {
    "scrolled": true
   },
   "outputs": [
    {
     "name": "stdout",
     "output_type": "stream",
     "text": [
      "Below are the dataframes contained in this dataset and their dimensions:\n",
      "\n",
      "acetylproteomics\n",
      "\t211 rows\n",
      "\t6904 columns\n",
      "circular_RNA\n",
      "\t211 rows\n",
      "\t371843 columns\n",
      "clinical\n",
      "\t211 rows\n",
      "\t16 columns\n",
      "CNV\n",
      "\t109 rows\n",
      "\t19267 columns\n",
      "derived_molecular\n",
      "\t211 rows\n",
      "\t56 columns\n",
      "experimental_design\n",
      "\t211 rows\n",
      "\t5 columns\n",
      "followup\n",
      "\t228 rows\n",
      "\t38 columns\n",
      "gene_fusion\n",
      "\t2740 rows\n",
      "\t28 columns\n",
      "lincRNA\n",
      "\t211 rows\n",
      "\t2649 columns\n",
      "miRNA\n",
      "\t207 rows\n",
      "\t2585 columns\n",
      "phosphoproteomics\n",
      "\t211 rows\n",
      "\t40971 columns\n",
      "proteomics\n",
      "\t211 rows\n",
      "\t10699 columns\n",
      "somatic_mutation\n",
      "\t32241 rows\n",
      "\t3 columns\n",
      "transcriptomics\n",
      "\t211 rows\n",
      "\t18099 columns\n"
     ]
    }
   ],
   "source": [
    "# Run the list_data() function\n",
    "luad.list_data()"
   ]
  },
  {
   "cell_type": "markdown",
   "id": "3d30d90d",
   "metadata": {},
   "source": [
    "Given that many of the dataframes contained in the luad dataset have around 211 rows, it can be assumed that there are about 211 patients in this dataset."
   ]
  },
  {
   "cell_type": "markdown",
   "id": "ab6034bd",
   "metadata": {},
   "source": [
    "**Exercise 1.2** Use the get_proteomics() function to store the proteomics data into a new data frame."
   ]
  },
  {
   "cell_type": "code",
   "execution_count": 4,
   "id": "2f7abc05",
   "metadata": {},
   "outputs": [
    {
     "data": {
      "text/html": [
       "<div>\n",
       "<style scoped>\n",
       "    .dataframe tbody tr th:only-of-type {\n",
       "        vertical-align: middle;\n",
       "    }\n",
       "\n",
       "    .dataframe tbody tr th {\n",
       "        vertical-align: top;\n",
       "    }\n",
       "\n",
       "    .dataframe thead tr th {\n",
       "        text-align: left;\n",
       "    }\n",
       "\n",
       "    .dataframe thead tr:last-of-type th {\n",
       "        text-align: right;\n",
       "    }\n",
       "</style>\n",
       "<table border=\"1\" class=\"dataframe\">\n",
       "  <thead>\n",
       "    <tr>\n",
       "      <th>Name</th>\n",
       "      <th>A1BG</th>\n",
       "      <th>A2M</th>\n",
       "      <th>AAAS</th>\n",
       "      <th>AACS</th>\n",
       "      <th>AADAC</th>\n",
       "      <th>AADAT</th>\n",
       "      <th>AAED1</th>\n",
       "      <th>AAGAB</th>\n",
       "      <th>AAMDC</th>\n",
       "      <th>AAMP</th>\n",
       "      <th>...</th>\n",
       "      <th>ZSCAN31</th>\n",
       "      <th>ZSWIM9</th>\n",
       "      <th>ZW10</th>\n",
       "      <th>ZWILCH</th>\n",
       "      <th>ZWINT</th>\n",
       "      <th>ZXDC</th>\n",
       "      <th>ZYG11B</th>\n",
       "      <th>ZYX</th>\n",
       "      <th>ZZEF1</th>\n",
       "      <th>ZZZ3</th>\n",
       "    </tr>\n",
       "    <tr>\n",
       "      <th>Database_ID</th>\n",
       "      <th>NP_570602.2</th>\n",
       "      <th>NP_000005.2|NP_001334353.1|NP_001334354.1|K4JDR8|K4JBA2|K4JB97</th>\n",
       "      <th>NP_056480.1|NP_001166937.1</th>\n",
       "      <th>NP_076417.2|NP_001306769.1|NP_001306768.1</th>\n",
       "      <th>NP_001077.2</th>\n",
       "      <th>NP_001273611.1|NP_001273612.1</th>\n",
       "      <th>NP_714542.1</th>\n",
       "      <th>NP_078942.3|NP_001258814.1</th>\n",
       "      <th>NP_001303889.1|NP_001350493.1|NP_001303886.1|NP_001303887.1</th>\n",
       "      <th>NP_001289474.1|NP_001078.2</th>\n",
       "      <th>...</th>\n",
       "      <th>NP_001128687.1|NP_001230171.1</th>\n",
       "      <th>NP_955373.3</th>\n",
       "      <th>NP_004715.1</th>\n",
       "      <th>NP_060445.3|NP_001274750.1</th>\n",
       "      <th>NP_008988.2|NP_001005413.1</th>\n",
       "      <th>NP_079388.3|NP_001035743.1</th>\n",
       "      <th>NP_078922.1</th>\n",
       "      <th>NP_001010972.1|NP_001349712.1</th>\n",
       "      <th>NP_055928.3</th>\n",
       "      <th>NP_056349.1|NP_001295166.1</th>\n",
       "    </tr>\n",
       "    <tr>\n",
       "      <th>Patient_ID</th>\n",
       "      <th></th>\n",
       "      <th></th>\n",
       "      <th></th>\n",
       "      <th></th>\n",
       "      <th></th>\n",
       "      <th></th>\n",
       "      <th></th>\n",
       "      <th></th>\n",
       "      <th></th>\n",
       "      <th></th>\n",
       "      <th></th>\n",
       "      <th></th>\n",
       "      <th></th>\n",
       "      <th></th>\n",
       "      <th></th>\n",
       "      <th></th>\n",
       "      <th></th>\n",
       "      <th></th>\n",
       "      <th></th>\n",
       "      <th></th>\n",
       "      <th></th>\n",
       "    </tr>\n",
       "  </thead>\n",
       "  <tbody>\n",
       "    <tr>\n",
       "      <th>C3L-00001</th>\n",
       "      <td>-2.5347</td>\n",
       "      <td>-3.4057</td>\n",
       "      <td>0.1572</td>\n",
       "      <td>-1.1998</td>\n",
       "      <td>-1.6826</td>\n",
       "      <td>NaN</td>\n",
       "      <td>NaN</td>\n",
       "      <td>-0.8179</td>\n",
       "      <td>-0.8053</td>\n",
       "      <td>-0.1899</td>\n",
       "      <td>...</td>\n",
       "      <td>NaN</td>\n",
       "      <td>NaN</td>\n",
       "      <td>0.2992</td>\n",
       "      <td>-1.3607</td>\n",
       "      <td>NaN</td>\n",
       "      <td>NaN</td>\n",
       "      <td>0.6527</td>\n",
       "      <td>-0.9694</td>\n",
       "      <td>-1.1840</td>\n",
       "      <td>-2.5284</td>\n",
       "    </tr>\n",
       "    <tr>\n",
       "      <th>C3L-00009</th>\n",
       "      <td>-0.5627</td>\n",
       "      <td>-1.7945</td>\n",
       "      <td>1.0054</td>\n",
       "      <td>-0.3624</td>\n",
       "      <td>-4.4887</td>\n",
       "      <td>0.0079</td>\n",
       "      <td>0.2157</td>\n",
       "      <td>1.3342</td>\n",
       "      <td>0.0645</td>\n",
       "      <td>0.6427</td>\n",
       "      <td>...</td>\n",
       "      <td>11.6158</td>\n",
       "      <td>-0.5098</td>\n",
       "      <td>-0.1622</td>\n",
       "      <td>0.9828</td>\n",
       "      <td>0.5633</td>\n",
       "      <td>-1.4620</td>\n",
       "      <td>-1.0690</td>\n",
       "      <td>0.7674</td>\n",
       "      <td>0.5066</td>\n",
       "      <td>0.4311</td>\n",
       "    </tr>\n",
       "    <tr>\n",
       "      <th>C3L-00080</th>\n",
       "      <td>-1.9422</td>\n",
       "      <td>-2.3782</td>\n",
       "      <td>0.1940</td>\n",
       "      <td>0.1920</td>\n",
       "      <td>-2.2655</td>\n",
       "      <td>NaN</td>\n",
       "      <td>-1.6626</td>\n",
       "      <td>0.2149</td>\n",
       "      <td>-0.7593</td>\n",
       "      <td>0.6113</td>\n",
       "      <td>...</td>\n",
       "      <td>NaN</td>\n",
       "      <td>NaN</td>\n",
       "      <td>-0.2795</td>\n",
       "      <td>0.6613</td>\n",
       "      <td>NaN</td>\n",
       "      <td>0.9659</td>\n",
       "      <td>-0.3442</td>\n",
       "      <td>-1.6480</td>\n",
       "      <td>1.2872</td>\n",
       "      <td>-0.7301</td>\n",
       "    </tr>\n",
       "    <tr>\n",
       "      <th>C3L-00083</th>\n",
       "      <td>2.1636</td>\n",
       "      <td>3.1227</td>\n",
       "      <td>-0.3044</td>\n",
       "      <td>-1.7183</td>\n",
       "      <td>-3.2851</td>\n",
       "      <td>-1.8216</td>\n",
       "      <td>3.6147</td>\n",
       "      <td>-0.4863</td>\n",
       "      <td>-1.2387</td>\n",
       "      <td>-0.4946</td>\n",
       "      <td>...</td>\n",
       "      <td>-3.0742</td>\n",
       "      <td>-1.6769</td>\n",
       "      <td>-0.5897</td>\n",
       "      <td>-0.8129</td>\n",
       "      <td>NaN</td>\n",
       "      <td>0.9399</td>\n",
       "      <td>-0.2465</td>\n",
       "      <td>0.3157</td>\n",
       "      <td>0.6547</td>\n",
       "      <td>NaN</td>\n",
       "    </tr>\n",
       "    <tr>\n",
       "      <th>C3L-00093</th>\n",
       "      <td>-1.0022</td>\n",
       "      <td>-0.9632</td>\n",
       "      <td>0.8190</td>\n",
       "      <td>0.2556</td>\n",
       "      <td>-11.1252</td>\n",
       "      <td>NaN</td>\n",
       "      <td>-0.1696</td>\n",
       "      <td>0.2911</td>\n",
       "      <td>-0.4459</td>\n",
       "      <td>-0.1518</td>\n",
       "      <td>...</td>\n",
       "      <td>NaN</td>\n",
       "      <td>NaN</td>\n",
       "      <td>0.6950</td>\n",
       "      <td>-0.1625</td>\n",
       "      <td>1.8536</td>\n",
       "      <td>-2.2990</td>\n",
       "      <td>0.4293</td>\n",
       "      <td>-0.5876</td>\n",
       "      <td>-0.4991</td>\n",
       "      <td>-0.3077</td>\n",
       "    </tr>\n",
       "    <tr>\n",
       "      <th>...</th>\n",
       "      <td>...</td>\n",
       "      <td>...</td>\n",
       "      <td>...</td>\n",
       "      <td>...</td>\n",
       "      <td>...</td>\n",
       "      <td>...</td>\n",
       "      <td>...</td>\n",
       "      <td>...</td>\n",
       "      <td>...</td>\n",
       "      <td>...</td>\n",
       "      <td>...</td>\n",
       "      <td>...</td>\n",
       "      <td>...</td>\n",
       "      <td>...</td>\n",
       "      <td>...</td>\n",
       "      <td>...</td>\n",
       "      <td>...</td>\n",
       "      <td>...</td>\n",
       "      <td>...</td>\n",
       "      <td>...</td>\n",
       "      <td>...</td>\n",
       "    </tr>\n",
       "    <tr>\n",
       "      <th>C3N-02582.N</th>\n",
       "      <td>1.8277</td>\n",
       "      <td>3.6204</td>\n",
       "      <td>0.1783</td>\n",
       "      <td>-1.6842</td>\n",
       "      <td>0.6852</td>\n",
       "      <td>NaN</td>\n",
       "      <td>1.5338</td>\n",
       "      <td>-0.6666</td>\n",
       "      <td>2.3787</td>\n",
       "      <td>-0.0458</td>\n",
       "      <td>...</td>\n",
       "      <td>-0.2001</td>\n",
       "      <td>NaN</td>\n",
       "      <td>-0.0826</td>\n",
       "      <td>-1.6769</td>\n",
       "      <td>-0.0017</td>\n",
       "      <td>-0.1266</td>\n",
       "      <td>0.2995</td>\n",
       "      <td>2.3934</td>\n",
       "      <td>0.7770</td>\n",
       "      <td>0.9497</td>\n",
       "    </tr>\n",
       "    <tr>\n",
       "      <th>C3N-02586.N</th>\n",
       "      <td>0.8035</td>\n",
       "      <td>1.6403</td>\n",
       "      <td>0.2300</td>\n",
       "      <td>-1.8837</td>\n",
       "      <td>1.4085</td>\n",
       "      <td>NaN</td>\n",
       "      <td>1.3378</td>\n",
       "      <td>-0.8544</td>\n",
       "      <td>0.1946</td>\n",
       "      <td>-0.0726</td>\n",
       "      <td>...</td>\n",
       "      <td>-0.8229</td>\n",
       "      <td>0.1750</td>\n",
       "      <td>-0.0804</td>\n",
       "      <td>-1.6401</td>\n",
       "      <td>NaN</td>\n",
       "      <td>2.4025</td>\n",
       "      <td>1.2161</td>\n",
       "      <td>1.6443</td>\n",
       "      <td>1.1886</td>\n",
       "      <td>1.1807</td>\n",
       "    </tr>\n",
       "    <tr>\n",
       "      <th>C3N-02587.N</th>\n",
       "      <td>1.7637</td>\n",
       "      <td>2.2513</td>\n",
       "      <td>-0.0532</td>\n",
       "      <td>-1.4159</td>\n",
       "      <td>4.8264</td>\n",
       "      <td>0.8151</td>\n",
       "      <td>0.4511</td>\n",
       "      <td>-0.8181</td>\n",
       "      <td>2.6187</td>\n",
       "      <td>-0.3304</td>\n",
       "      <td>...</td>\n",
       "      <td>-0.1301</td>\n",
       "      <td>NaN</td>\n",
       "      <td>-0.0800</td>\n",
       "      <td>-2.4146</td>\n",
       "      <td>-2.8354</td>\n",
       "      <td>NaN</td>\n",
       "      <td>1.2861</td>\n",
       "      <td>2.1244</td>\n",
       "      <td>0.7083</td>\n",
       "      <td>1.1825</td>\n",
       "    </tr>\n",
       "    <tr>\n",
       "      <th>C3N-02588.N</th>\n",
       "      <td>1.0875</td>\n",
       "      <td>1.7414</td>\n",
       "      <td>-0.2270</td>\n",
       "      <td>-1.7000</td>\n",
       "      <td>4.5153</td>\n",
       "      <td>0.4875</td>\n",
       "      <td>NaN</td>\n",
       "      <td>-0.2169</td>\n",
       "      <td>0.5044</td>\n",
       "      <td>-0.3012</td>\n",
       "      <td>...</td>\n",
       "      <td>-0.9652</td>\n",
       "      <td>-0.1293</td>\n",
       "      <td>-0.4764</td>\n",
       "      <td>-1.4775</td>\n",
       "      <td>-2.2999</td>\n",
       "      <td>2.1054</td>\n",
       "      <td>0.4943</td>\n",
       "      <td>1.5459</td>\n",
       "      <td>0.6358</td>\n",
       "      <td>1.2729</td>\n",
       "    </tr>\n",
       "    <tr>\n",
       "      <th>C3N-02729.N</th>\n",
       "      <td>2.6011</td>\n",
       "      <td>3.0462</td>\n",
       "      <td>-0.2924</td>\n",
       "      <td>-2.1953</td>\n",
       "      <td>4.1405</td>\n",
       "      <td>1.2990</td>\n",
       "      <td>NaN</td>\n",
       "      <td>-0.4741</td>\n",
       "      <td>2.0892</td>\n",
       "      <td>-0.5594</td>\n",
       "      <td>...</td>\n",
       "      <td>NaN</td>\n",
       "      <td>3.2948</td>\n",
       "      <td>-0.7338</td>\n",
       "      <td>NaN</td>\n",
       "      <td>-1.4238</td>\n",
       "      <td>-2.0766</td>\n",
       "      <td>0.3234</td>\n",
       "      <td>1.6588</td>\n",
       "      <td>0.6202</td>\n",
       "      <td>0.8390</td>\n",
       "    </tr>\n",
       "  </tbody>\n",
       "</table>\n",
       "<p>211 rows × 10699 columns</p>\n",
       "</div>"
      ],
      "text/plain": [
       "Name               A1BG  \\\n",
       "Database_ID NP_570602.2   \n",
       "Patient_ID                \n",
       "C3L-00001       -2.5347   \n",
       "C3L-00009       -0.5627   \n",
       "C3L-00080       -1.9422   \n",
       "C3L-00083        2.1636   \n",
       "C3L-00093       -1.0022   \n",
       "...                 ...   \n",
       "C3N-02582.N      1.8277   \n",
       "C3N-02586.N      0.8035   \n",
       "C3N-02587.N      1.7637   \n",
       "C3N-02588.N      1.0875   \n",
       "C3N-02729.N      2.6011   \n",
       "\n",
       "Name                                                                   A2M  \\\n",
       "Database_ID NP_000005.2|NP_001334353.1|NP_001334354.1|K4JDR8|K4JBA2|K4JB97   \n",
       "Patient_ID                                                                   \n",
       "C3L-00001                                              -3.4057               \n",
       "C3L-00009                                              -1.7945               \n",
       "C3L-00080                                              -2.3782               \n",
       "C3L-00083                                               3.1227               \n",
       "C3L-00093                                              -0.9632               \n",
       "...                                                        ...               \n",
       "C3N-02582.N                                             3.6204               \n",
       "C3N-02586.N                                             1.6403               \n",
       "C3N-02587.N                                             2.2513               \n",
       "C3N-02588.N                                             1.7414               \n",
       "C3N-02729.N                                             3.0462               \n",
       "\n",
       "Name                              AAAS  \\\n",
       "Database_ID NP_056480.1|NP_001166937.1   \n",
       "Patient_ID                               \n",
       "C3L-00001                       0.1572   \n",
       "C3L-00009                       1.0054   \n",
       "C3L-00080                       0.1940   \n",
       "C3L-00083                      -0.3044   \n",
       "C3L-00093                       0.8190   \n",
       "...                                ...   \n",
       "C3N-02582.N                     0.1783   \n",
       "C3N-02586.N                     0.2300   \n",
       "C3N-02587.N                    -0.0532   \n",
       "C3N-02588.N                    -0.2270   \n",
       "C3N-02729.N                    -0.2924   \n",
       "\n",
       "Name                                             AACS       AADAC  \\\n",
       "Database_ID NP_076417.2|NP_001306769.1|NP_001306768.1 NP_001077.2   \n",
       "Patient_ID                                                          \n",
       "C3L-00001                                     -1.1998     -1.6826   \n",
       "C3L-00009                                     -0.3624     -4.4887   \n",
       "C3L-00080                                      0.1920     -2.2655   \n",
       "C3L-00083                                     -1.7183     -3.2851   \n",
       "C3L-00093                                      0.2556    -11.1252   \n",
       "...                                               ...         ...   \n",
       "C3N-02582.N                                   -1.6842      0.6852   \n",
       "C3N-02586.N                                   -1.8837      1.4085   \n",
       "C3N-02587.N                                   -1.4159      4.8264   \n",
       "C3N-02588.N                                   -1.7000      4.5153   \n",
       "C3N-02729.N                                   -2.1953      4.1405   \n",
       "\n",
       "Name                                AADAT       AAED1  \\\n",
       "Database_ID NP_001273611.1|NP_001273612.1 NP_714542.1   \n",
       "Patient_ID                                              \n",
       "C3L-00001                             NaN         NaN   \n",
       "C3L-00009                          0.0079      0.2157   \n",
       "C3L-00080                             NaN     -1.6626   \n",
       "C3L-00083                         -1.8216      3.6147   \n",
       "C3L-00093                             NaN     -0.1696   \n",
       "...                                   ...         ...   \n",
       "C3N-02582.N                           NaN      1.5338   \n",
       "C3N-02586.N                           NaN      1.3378   \n",
       "C3N-02587.N                        0.8151      0.4511   \n",
       "C3N-02588.N                        0.4875         NaN   \n",
       "C3N-02729.N                        1.2990         NaN   \n",
       "\n",
       "Name                             AAGAB  \\\n",
       "Database_ID NP_078942.3|NP_001258814.1   \n",
       "Patient_ID                               \n",
       "C3L-00001                      -0.8179   \n",
       "C3L-00009                       1.3342   \n",
       "C3L-00080                       0.2149   \n",
       "C3L-00083                      -0.4863   \n",
       "C3L-00093                       0.2911   \n",
       "...                                ...   \n",
       "C3N-02582.N                    -0.6666   \n",
       "C3N-02586.N                    -0.8544   \n",
       "C3N-02587.N                    -0.8181   \n",
       "C3N-02588.N                    -0.2169   \n",
       "C3N-02729.N                    -0.4741   \n",
       "\n",
       "Name                                                              AAMDC  \\\n",
       "Database_ID NP_001303889.1|NP_001350493.1|NP_001303886.1|NP_001303887.1   \n",
       "Patient_ID                                                                \n",
       "C3L-00001                                              -0.8053            \n",
       "C3L-00009                                               0.0645            \n",
       "C3L-00080                                              -0.7593            \n",
       "C3L-00083                                              -1.2387            \n",
       "C3L-00093                                              -0.4459            \n",
       "...                                                        ...            \n",
       "C3N-02582.N                                             2.3787            \n",
       "C3N-02586.N                                             0.1946            \n",
       "C3N-02587.N                                             2.6187            \n",
       "C3N-02588.N                                             0.5044            \n",
       "C3N-02729.N                                             2.0892            \n",
       "\n",
       "Name                              AAMP  ...                       ZSCAN31  \\\n",
       "Database_ID NP_001289474.1|NP_001078.2  ... NP_001128687.1|NP_001230171.1   \n",
       "Patient_ID                              ...                                 \n",
       "C3L-00001                      -0.1899  ...                           NaN   \n",
       "C3L-00009                       0.6427  ...                       11.6158   \n",
       "C3L-00080                       0.6113  ...                           NaN   \n",
       "C3L-00083                      -0.4946  ...                       -3.0742   \n",
       "C3L-00093                      -0.1518  ...                           NaN   \n",
       "...                                ...  ...                           ...   \n",
       "C3N-02582.N                    -0.0458  ...                       -0.2001   \n",
       "C3N-02586.N                    -0.0726  ...                       -0.8229   \n",
       "C3N-02587.N                    -0.3304  ...                       -0.1301   \n",
       "C3N-02588.N                    -0.3012  ...                       -0.9652   \n",
       "C3N-02729.N                    -0.5594  ...                           NaN   \n",
       "\n",
       "Name             ZSWIM9        ZW10                     ZWILCH  \\\n",
       "Database_ID NP_955373.3 NP_004715.1 NP_060445.3|NP_001274750.1   \n",
       "Patient_ID                                                       \n",
       "C3L-00001           NaN      0.2992                    -1.3607   \n",
       "C3L-00009       -0.5098     -0.1622                     0.9828   \n",
       "C3L-00080           NaN     -0.2795                     0.6613   \n",
       "C3L-00083       -1.6769     -0.5897                    -0.8129   \n",
       "C3L-00093           NaN      0.6950                    -0.1625   \n",
       "...                 ...         ...                        ...   \n",
       "C3N-02582.N         NaN     -0.0826                    -1.6769   \n",
       "C3N-02586.N      0.1750     -0.0804                    -1.6401   \n",
       "C3N-02587.N         NaN     -0.0800                    -2.4146   \n",
       "C3N-02588.N     -0.1293     -0.4764                    -1.4775   \n",
       "C3N-02729.N      3.2948     -0.7338                        NaN   \n",
       "\n",
       "Name                             ZWINT                       ZXDC      ZYG11B  \\\n",
       "Database_ID NP_008988.2|NP_001005413.1 NP_079388.3|NP_001035743.1 NP_078922.1   \n",
       "Patient_ID                                                                      \n",
       "C3L-00001                          NaN                        NaN      0.6527   \n",
       "C3L-00009                       0.5633                    -1.4620     -1.0690   \n",
       "C3L-00080                          NaN                     0.9659     -0.3442   \n",
       "C3L-00083                          NaN                     0.9399     -0.2465   \n",
       "C3L-00093                       1.8536                    -2.2990      0.4293   \n",
       "...                                ...                        ...         ...   \n",
       "C3N-02582.N                    -0.0017                    -0.1266      0.2995   \n",
       "C3N-02586.N                        NaN                     2.4025      1.2161   \n",
       "C3N-02587.N                    -2.8354                        NaN      1.2861   \n",
       "C3N-02588.N                    -2.2999                     2.1054      0.4943   \n",
       "C3N-02729.N                    -1.4238                    -2.0766      0.3234   \n",
       "\n",
       "Name                                  ZYX       ZZEF1  \\\n",
       "Database_ID NP_001010972.1|NP_001349712.1 NP_055928.3   \n",
       "Patient_ID                                              \n",
       "C3L-00001                         -0.9694     -1.1840   \n",
       "C3L-00009                          0.7674      0.5066   \n",
       "C3L-00080                         -1.6480      1.2872   \n",
       "C3L-00083                          0.3157      0.6547   \n",
       "C3L-00093                         -0.5876     -0.4991   \n",
       "...                                   ...         ...   \n",
       "C3N-02582.N                        2.3934      0.7770   \n",
       "C3N-02586.N                        1.6443      1.1886   \n",
       "C3N-02587.N                        2.1244      0.7083   \n",
       "C3N-02588.N                        1.5459      0.6358   \n",
       "C3N-02729.N                        1.6588      0.6202   \n",
       "\n",
       "Name                              ZZZ3  \n",
       "Database_ID NP_056349.1|NP_001295166.1  \n",
       "Patient_ID                              \n",
       "C3L-00001                      -2.5284  \n",
       "C3L-00009                       0.4311  \n",
       "C3L-00080                      -0.7301  \n",
       "C3L-00083                          NaN  \n",
       "C3L-00093                      -0.3077  \n",
       "...                                ...  \n",
       "C3N-02582.N                     0.9497  \n",
       "C3N-02586.N                     1.1807  \n",
       "C3N-02587.N                     1.1825  \n",
       "C3N-02588.N                     1.2729  \n",
       "C3N-02729.N                     0.8390  \n",
       "\n",
       "[211 rows x 10699 columns]"
      ]
     },
     "execution_count": 4,
     "metadata": {},
     "output_type": "execute_result"
    }
   ],
   "source": [
    "protein_data = luad.get_proteomics() # get the proteomics data\n",
    "protein_data # view the data"
   ]
  },
  {
   "cell_type": "code",
   "execution_count": 5,
   "id": "b71517bd",
   "metadata": {},
   "outputs": [],
   "source": [
    "# Uncomment and run this command after you get the data, you don't really need to know what it does but it collapses\n",
    "# the column names and gets rid of the database_IDs which will make our lives much easier!\n",
    "\n",
    "protein_data.columns = protein_data.columns.get_level_values(0)"
   ]
  },
  {
   "cell_type": "markdown",
   "id": "1188f104",
   "metadata": {},
   "source": [
    "## (2) Exploring the Data\n",
    "\n",
    "As mentioned earlier, `cptac` data is in the form of `pandas` dataframes. Let's load that and `numpy`. \n",
    "\n",
    "**Exercise 2.1** Import numpy and pandas with their usual shortened names (pd and np)."
   ]
  },
  {
   "cell_type": "code",
   "execution_count": 6,
   "id": "8ace4453",
   "metadata": {
    "scrolled": true
   },
   "outputs": [],
   "source": [
    "import numpy as np\n",
    "import pandas as pd"
   ]
  },
  {
   "cell_type": "markdown",
   "id": "2b18a548",
   "metadata": {},
   "source": [
    "Remember that we can access the rows/column names of a data frame in two ways:\n",
    "1. We can get the row and column names together in a list with the `axes` attribute.\n",
    "2. We can get the row or column names individually in the `index` (row) or `columns` (column) attribute.\n",
    "<br></br>\n",
    "**Exercise 2.2** Print the axes, index, and columns of the protein_data object. Then, determine its dimensions using the shape attribute. Finally, answer the following questions:\n",
    "\n",
    "* How many rows and columns are there in the data frame?\n",
    "* What do the rows and columns represent?\n",
    "* How many patients are there?\n",
    "* What about proteins?"
   ]
  },
  {
   "cell_type": "code",
   "execution_count": 10,
   "id": "1501f26c",
   "metadata": {
    "scrolled": true
   },
   "outputs": [
    {
     "name": "stdout",
     "output_type": "stream",
     "text": [
      "[Index(['C3L-00001', 'C3L-00009', 'C3L-00080', 'C3L-00083', 'C3L-00093',\n",
      "       'C3L-00094', 'C3L-00095', 'C3L-00140', 'C3L-00144', 'C3L-00263',\n",
      "       ...\n",
      "       'C3N-02423.N', 'C3N-02424.N', 'C3N-02433.N', 'C3N-02529.N',\n",
      "       'C3N-02572.N', 'C3N-02582.N', 'C3N-02586.N', 'C3N-02587.N',\n",
      "       'C3N-02588.N', 'C3N-02729.N'],\n",
      "      dtype='object', name='Patient_ID', length=211), Index(['A1BG', 'A2M', 'AAAS', 'AACS', 'AADAC', 'AADAT', 'AAED1', 'AAGAB',\n",
      "       'AAMDC', 'AAMP',\n",
      "       ...\n",
      "       'ZSCAN31', 'ZSWIM9', 'ZW10', 'ZWILCH', 'ZWINT', 'ZXDC', 'ZYG11B', 'ZYX',\n",
      "       'ZZEF1', 'ZZZ3'],\n",
      "      dtype='object', name='Name', length=10699)]\n"
     ]
    }
   ],
   "source": [
    "print(protein_data.axes)"
   ]
  },
  {
   "cell_type": "code",
   "execution_count": 16,
   "id": "29a56b7a",
   "metadata": {},
   "outputs": [
    {
     "name": "stdout",
     "output_type": "stream",
     "text": [
      "Index(['C3L-00001', 'C3L-00009', 'C3L-00080', 'C3L-00083', 'C3L-00093',\n",
      "       'C3L-00094', 'C3L-00095', 'C3L-00140', 'C3L-00144', 'C3L-00263',\n",
      "       ...\n",
      "       'C3N-02423.N', 'C3N-02424.N', 'C3N-02433.N', 'C3N-02529.N',\n",
      "       'C3N-02572.N', 'C3N-02582.N', 'C3N-02586.N', 'C3N-02587.N',\n",
      "       'C3N-02588.N', 'C3N-02729.N'],\n",
      "      dtype='object', name='Patient_ID', length=211)\n"
     ]
    },
    {
     "data": {
      "text/plain": [
       "'C3L-00093'"
      ]
     },
     "execution_count": 16,
     "metadata": {},
     "output_type": "execute_result"
    }
   ],
   "source": [
    "print(protein_data.index)"
   ]
  },
  {
   "cell_type": "code",
   "execution_count": 14,
   "id": "b8807a76",
   "metadata": {},
   "outputs": [
    {
     "name": "stdout",
     "output_type": "stream",
     "text": [
      "Index(['A1BG', 'A2M', 'AAAS', 'AACS', 'AADAC', 'AADAT', 'AAED1', 'AAGAB',\n",
      "       'AAMDC', 'AAMP',\n",
      "       ...\n",
      "       'ZSCAN31', 'ZSWIM9', 'ZW10', 'ZWILCH', 'ZWINT', 'ZXDC', 'ZYG11B', 'ZYX',\n",
      "       'ZZEF1', 'ZZZ3'],\n",
      "      dtype='object', name='Name', length=10699)\n"
     ]
    }
   ],
   "source": [
    "print(protein_data.columns)"
   ]
  },
  {
   "cell_type": "code",
   "execution_count": 15,
   "id": "c5d9d37d",
   "metadata": {
    "scrolled": true
   },
   "outputs": [
    {
     "name": "stdout",
     "output_type": "stream",
     "text": [
      "(211, 10699)\n"
     ]
    }
   ],
   "source": [
    "# get dimensions of protein_data\n",
    "print(protein_data.shape)"
   ]
  },
  {
   "cell_type": "markdown",
   "id": "d047c216",
   "metadata": {},
   "source": [
    "There are 211 rows and 10699 columns in the protein_data data frame. The 211 rows correspond to the 211 patients in the dataframe, with the index of every row containing patient_ID. The 10699 columns represent the 10699 proteins analyzed."
   ]
  },
  {
   "cell_type": "markdown",
   "id": "6db06758",
   "metadata": {},
   "source": [
    "Remember we can access data by name using `.loc[]` and `.iloc[]`. Since this dataset is really large, we won't really use `.iloc[]` which accesses by index. To get the protein expression information for a specific patient, therefore, we would run something like this: "
   ]
  },
  {
   "cell_type": "code",
   "execution_count": null,
   "id": "5158710b",
   "metadata": {},
   "outputs": [],
   "source": [
    "protein_data.loc[\"patient ID\",\"protein name\"] # this is the general case, you have to fill in actual IDs/protein names"
   ]
  },
  {
   "cell_type": "markdown",
   "id": "0c4e080d",
   "metadata": {},
   "source": [
    "**Exercise 2.3** Remember that the numerical data in CPTAC is the relative fold change, not an absolute value/count. Given this, what kind of number would represent lower relative expression? What kind of number would represent higher relative expression? (Hint: reference level is 0) "
   ]
  },
  {
   "cell_type": "markdown",
   "id": "cfcb90c6",
   "metadata": {},
   "source": [
    "log(1) = 0, so levels of expression under 1 would have a negative log value and levels of expression over 1 would have a positive log value. Thus, negative numbers would represent lower relative expression and positive numbers would represent higher relative expression."
   ]
  },
  {
   "cell_type": "markdown",
   "id": "ccdaaa65",
   "metadata": {},
   "source": [
    "**Exericse 2.4**\n",
    "\n",
    "Print the relative fold change of 5th patient in the `TP53` protein. Then, interpret this value -- does this patient have higher or lower protein levels than the reference? (Hint: use .loc[] and remember that a `:` can be used in either the row or column slot to access every row or every column.)\n"
   ]
  },
  {
   "cell_type": "code",
   "execution_count": 19,
   "id": "ff9cfdd8",
   "metadata": {},
   "outputs": [
    {
     "data": {
      "text/plain": [
       "-0.6443"
      ]
     },
     "execution_count": 19,
     "metadata": {},
     "output_type": "execute_result"
    }
   ],
   "source": [
    "protein_data.loc[protein_data.index[4], \"TP53\"]"
   ]
  },
  {
   "cell_type": "markdown",
   "id": "ab202cf5",
   "metadata": {},
   "source": [
    "From the relative fold change of -0.6443 in the TP53 protein for the 5th patient, it can be concluded that this patient has lower protein levels than the reference."
   ]
  },
  {
   "cell_type": "markdown",
   "id": "e66937a6",
   "metadata": {},
   "source": [
    "### Using Boolean indexing\n",
    "\n",
    "In R, we used the `ifelse()` function very heavily to assign categories, such as classifying patients as \"old\" or \"young\". In Python, we have the `where(COND, TRUE_VAL, FALSE_VAL)` function from numpy, which works extremely similarly to ifelse(). That is:\n",
    "\n",
    "   1. The first parameter is the condition (a boolean vector; i.e. Trues and Falses).\n",
    "   2. The second parameter is the value to fill the True conditions.\n",
    "   3. The third parameter is the value to fil lthe False conditions.\n",
    "    \n",
    "The following example (split into the four code blocks below) shows how to apply the `where()` function, in the context of telling if a number is odd or even."
   ]
  },
  {
   "cell_type": "code",
   "execution_count": 7,
   "id": "877c4f62",
   "metadata": {
    "scrolled": true
   },
   "outputs": [
    {
     "data": {
      "text/html": [
       "<div>\n",
       "<style scoped>\n",
       "    .dataframe tbody tr th:only-of-type {\n",
       "        vertical-align: middle;\n",
       "    }\n",
       "\n",
       "    .dataframe tbody tr th {\n",
       "        vertical-align: top;\n",
       "    }\n",
       "\n",
       "    .dataframe thead th {\n",
       "        text-align: right;\n",
       "    }\n",
       "</style>\n",
       "<table border=\"1\" class=\"dataframe\">\n",
       "  <thead>\n",
       "    <tr style=\"text-align: right;\">\n",
       "      <th></th>\n",
       "      <th>nums</th>\n",
       "    </tr>\n",
       "  </thead>\n",
       "  <tbody>\n",
       "    <tr>\n",
       "      <th>0</th>\n",
       "      <td>0</td>\n",
       "    </tr>\n",
       "    <tr>\n",
       "      <th>1</th>\n",
       "      <td>1</td>\n",
       "    </tr>\n",
       "    <tr>\n",
       "      <th>2</th>\n",
       "      <td>2</td>\n",
       "    </tr>\n",
       "    <tr>\n",
       "      <th>3</th>\n",
       "      <td>3</td>\n",
       "    </tr>\n",
       "    <tr>\n",
       "      <th>4</th>\n",
       "      <td>4</td>\n",
       "    </tr>\n",
       "    <tr>\n",
       "      <th>5</th>\n",
       "      <td>5</td>\n",
       "    </tr>\n",
       "  </tbody>\n",
       "</table>\n",
       "</div>"
      ],
      "text/plain": [
       "   nums\n",
       "0     0\n",
       "1     1\n",
       "2     2\n",
       "3     3\n",
       "4     4\n",
       "5     5"
      ]
     },
     "execution_count": 7,
     "metadata": {},
     "output_type": "execute_result"
    }
   ],
   "source": [
    "# first let's create our example array\n",
    "\n",
    "number_example_array = pd.DataFrame({\"nums\": [0, 1, 2, 3, 4, 5]})\n",
    "number_example_array"
   ]
  },
  {
   "cell_type": "code",
   "execution_count": 8,
   "id": "877ea8ef",
   "metadata": {},
   "outputs": [
    {
     "data": {
      "text/html": [
       "<div>\n",
       "<style scoped>\n",
       "    .dataframe tbody tr th:only-of-type {\n",
       "        vertical-align: middle;\n",
       "    }\n",
       "\n",
       "    .dataframe tbody tr th {\n",
       "        vertical-align: top;\n",
       "    }\n",
       "\n",
       "    .dataframe thead th {\n",
       "        text-align: right;\n",
       "    }\n",
       "</style>\n",
       "<table border=\"1\" class=\"dataframe\">\n",
       "  <thead>\n",
       "    <tr style=\"text-align: right;\">\n",
       "      <th></th>\n",
       "      <th>nums</th>\n",
       "    </tr>\n",
       "  </thead>\n",
       "  <tbody>\n",
       "    <tr>\n",
       "      <th>0</th>\n",
       "      <td>False</td>\n",
       "    </tr>\n",
       "    <tr>\n",
       "      <th>1</th>\n",
       "      <td>True</td>\n",
       "    </tr>\n",
       "    <tr>\n",
       "      <th>2</th>\n",
       "      <td>False</td>\n",
       "    </tr>\n",
       "    <tr>\n",
       "      <th>3</th>\n",
       "      <td>True</td>\n",
       "    </tr>\n",
       "    <tr>\n",
       "      <th>4</th>\n",
       "      <td>False</td>\n",
       "    </tr>\n",
       "    <tr>\n",
       "      <th>5</th>\n",
       "      <td>True</td>\n",
       "    </tr>\n",
       "  </tbody>\n",
       "</table>\n",
       "</div>"
      ],
      "text/plain": [
       "    nums\n",
       "0  False\n",
       "1   True\n",
       "2  False\n",
       "3   True\n",
       "4  False\n",
       "5   True"
      ]
     },
     "execution_count": 8,
     "metadata": {},
     "output_type": "execute_result"
    }
   ],
   "source": [
    "# now, let's make a boolean vector where odds will be True, evens will be False\n",
    "boolean_vector = (number_example_array % 2 == 1)\n",
    "boolean_vector"
   ]
  },
  {
   "cell_type": "code",
   "execution_count": 9,
   "id": "11f0d23e",
   "metadata": {},
   "outputs": [
    {
     "data": {
      "text/html": [
       "<div>\n",
       "<style scoped>\n",
       "    .dataframe tbody tr th:only-of-type {\n",
       "        vertical-align: middle;\n",
       "    }\n",
       "\n",
       "    .dataframe tbody tr th {\n",
       "        vertical-align: top;\n",
       "    }\n",
       "\n",
       "    .dataframe thead th {\n",
       "        text-align: right;\n",
       "    }\n",
       "</style>\n",
       "<table border=\"1\" class=\"dataframe\">\n",
       "  <thead>\n",
       "    <tr style=\"text-align: right;\">\n",
       "      <th></th>\n",
       "      <th>nums</th>\n",
       "      <th>boolean_vector</th>\n",
       "    </tr>\n",
       "  </thead>\n",
       "  <tbody>\n",
       "    <tr>\n",
       "      <th>0</th>\n",
       "      <td>0</td>\n",
       "      <td>False</td>\n",
       "    </tr>\n",
       "    <tr>\n",
       "      <th>1</th>\n",
       "      <td>1</td>\n",
       "      <td>True</td>\n",
       "    </tr>\n",
       "    <tr>\n",
       "      <th>2</th>\n",
       "      <td>2</td>\n",
       "      <td>False</td>\n",
       "    </tr>\n",
       "    <tr>\n",
       "      <th>3</th>\n",
       "      <td>3</td>\n",
       "      <td>True</td>\n",
       "    </tr>\n",
       "    <tr>\n",
       "      <th>4</th>\n",
       "      <td>4</td>\n",
       "      <td>False</td>\n",
       "    </tr>\n",
       "    <tr>\n",
       "      <th>5</th>\n",
       "      <td>5</td>\n",
       "      <td>True</td>\n",
       "    </tr>\n",
       "  </tbody>\n",
       "</table>\n",
       "</div>"
      ],
      "text/plain": [
       "   nums  boolean_vector\n",
       "0     0           False\n",
       "1     1            True\n",
       "2     2           False\n",
       "3     3            True\n",
       "4     4           False\n",
       "5     5            True"
      ]
     },
     "execution_count": 9,
     "metadata": {},
     "output_type": "execute_result"
    }
   ],
   "source": [
    "# then add this vector as a column in our array (we could do this and the above in one step)\n",
    "number_example_array[\"boolean_vector\"] = boolean_vector\n",
    "number_example_array"
   ]
  },
  {
   "cell_type": "code",
   "execution_count": 10,
   "id": "e85d10e5",
   "metadata": {},
   "outputs": [
    {
     "data": {
      "text/html": [
       "<div>\n",
       "<style scoped>\n",
       "    .dataframe tbody tr th:only-of-type {\n",
       "        vertical-align: middle;\n",
       "    }\n",
       "\n",
       "    .dataframe tbody tr th {\n",
       "        vertical-align: top;\n",
       "    }\n",
       "\n",
       "    .dataframe thead th {\n",
       "        text-align: right;\n",
       "    }\n",
       "</style>\n",
       "<table border=\"1\" class=\"dataframe\">\n",
       "  <thead>\n",
       "    <tr style=\"text-align: right;\">\n",
       "      <th></th>\n",
       "      <th>nums</th>\n",
       "      <th>boolean_vector</th>\n",
       "      <th>parity</th>\n",
       "    </tr>\n",
       "  </thead>\n",
       "  <tbody>\n",
       "    <tr>\n",
       "      <th>0</th>\n",
       "      <td>0</td>\n",
       "      <td>False</td>\n",
       "      <td>Even</td>\n",
       "    </tr>\n",
       "    <tr>\n",
       "      <th>1</th>\n",
       "      <td>1</td>\n",
       "      <td>True</td>\n",
       "      <td>Odd</td>\n",
       "    </tr>\n",
       "    <tr>\n",
       "      <th>2</th>\n",
       "      <td>2</td>\n",
       "      <td>False</td>\n",
       "      <td>Even</td>\n",
       "    </tr>\n",
       "    <tr>\n",
       "      <th>3</th>\n",
       "      <td>3</td>\n",
       "      <td>True</td>\n",
       "      <td>Odd</td>\n",
       "    </tr>\n",
       "    <tr>\n",
       "      <th>4</th>\n",
       "      <td>4</td>\n",
       "      <td>False</td>\n",
       "      <td>Even</td>\n",
       "    </tr>\n",
       "    <tr>\n",
       "      <th>5</th>\n",
       "      <td>5</td>\n",
       "      <td>True</td>\n",
       "      <td>Odd</td>\n",
       "    </tr>\n",
       "  </tbody>\n",
       "</table>\n",
       "</div>"
      ],
      "text/plain": [
       "   nums  boolean_vector parity\n",
       "0     0           False   Even\n",
       "1     1            True    Odd\n",
       "2     2           False   Even\n",
       "3     3            True    Odd\n",
       "4     4           False   Even\n",
       "5     5            True    Odd"
      ]
     },
     "execution_count": 10,
     "metadata": {},
     "output_type": "execute_result"
    }
   ],
   "source": [
    "# lastly, let's add a third column called \"parity\" that says based off of \"boolean_vector\" if our value is odd/even\n",
    "number_example_array[\"parity\"] = np.where(boolean_vector, \"Odd\", \"Even\")\n",
    "number_example_array"
   ]
  },
  {
   "cell_type": "markdown",
   "id": "3ae3e913",
   "metadata": {},
   "source": [
    "**Exercise 2.5** Access the following:\n",
    "\n",
    "1. Use boolean indexing to access the patient IDs with high (≥1) `TP53` expression. Save this in a pandas DataFrame called `high_TP53`. HINTS:\n",
    "    * Think about if protein expression information will be contained in a row or a column!\n",
    "    * Create a boolean mask with the row/column that contains the expression information of `TP53`.\n",
    "    * Apply the mask to the row/column names that contains the patient IDs.\n",
    "2. How many patients are there in `high_TP53`? Which axis (columns or rows) represents proteins?\n",
    "3. Add a column to `high_TP53` that has the values \"High\"/\"Average\"/\"Low\" based on ARF1 expression.\n",
    "4. How many patients have high expression of both `TP53` and average expression of `ARF1`?"
   ]
  },
  {
   "cell_type": "code",
   "execution_count": 11,
   "id": "d71d7b15",
   "metadata": {},
   "outputs": [],
   "source": [
    "# 1. create high_TP53 dataframe\n",
    "TP53_boolean_vector = (protein_data.loc[:, \"TP53\"] >= 1)\n",
    "high_TP53_data = protein_data.loc[TP53_boolean_vector, :]\n",
    "\n",
    "high_TP53_patient_IDs = high_TP53_data.index\n",
    "high_TP53 = pd.DataFrame({\"patient_ID\": high_TP53_patient_IDs})"
   ]
  },
  {
   "cell_type": "code",
   "execution_count": 87,
   "id": "6aa370ee",
   "metadata": {},
   "outputs": [
    {
     "name": "stdout",
     "output_type": "stream",
     "text": [
      "29\n"
     ]
    }
   ],
   "source": [
    "# 2. number of patients with high TP53 expression\n",
    "print(high_TP53.shape[0])"
   ]
  },
  {
   "cell_type": "code",
   "execution_count": 12,
   "id": "6eb1fa24",
   "metadata": {},
   "outputs": [],
   "source": [
    "# 3. add column for ARF1 expression\n",
    "# data doesn't have a column for ARF1 -> using ARF3 instead\n",
    "high_TP53[\"ARF3\"] = np.asarray(high_TP53_data.loc[:, \"ARF3\"])\n",
    "\n",
    "high_ARF3_boolean = (high_TP53.loc[:, \"ARF3\"] >= 1)\n",
    "low_ARF3_boolean = (high_TP53.loc[:, \"ARF3\"] <= -1)\n",
    "\n",
    "high_TP53[\"ARF3_label\"] = np.where(high_ARF3_boolean, \"High\", np.where\n",
    "                                   (low_ARF3_boolean, \"Low\", np.where\n",
    "                                    (pd.notna(high_TP53.loc[:, \"ARF3\"]), \"Average\", None)))"
   ]
  },
  {
   "cell_type": "code",
   "execution_count": 13,
   "id": "c2bc1784",
   "metadata": {},
   "outputs": [
    {
     "name": "stdout",
     "output_type": "stream",
     "text": [
      "23\n"
     ]
    }
   ],
   "source": [
    "# 4. number of patients with high TP53 and ARF3 expression\n",
    "print(len(high_TP53[high_TP53[\"ARF3_label\"] == \"Average\"]))"
   ]
  },
  {
   "cell_type": "markdown",
   "id": "5e91a353",
   "metadata": {},
   "source": [
    "## (3) Additional data in CPTAC\n",
    "\n",
    "You can also access other data using the `cptac` python package for the same patients, using the corresponding get function.\n",
    "\n",
    "**Exercise 3.1** Access the RNA (transcriptomics) and clinical data from the object. The function name is very similar in syntax to the get_proteomics() function from before!"
   ]
  },
  {
   "cell_type": "code",
   "execution_count": 14,
   "id": "26ae7024",
   "metadata": {},
   "outputs": [],
   "source": [
    "rna_data = luad.get_transcriptomics()\n",
    "clinical_data = luad.get_clinical()"
   ]
  },
  {
   "cell_type": "markdown",
   "id": "7d217ca6",
   "metadata": {},
   "source": [
    "**Exercise 3.2** Examine these dataframes. In particular:\n",
    "\n",
    "* What do the values in the rna_data data frame represent?\n",
    "* Compare the dimensions of the high_TP53, rna_data, and clinical_data. Are they equal?"
   ]
  },
  {
   "cell_type": "code",
   "execution_count": 98,
   "id": "0ef35657",
   "metadata": {},
   "outputs": [
    {
     "data": {
      "text/plain": [
       "(211, 16)"
      ]
     },
     "execution_count": 98,
     "metadata": {},
     "output_type": "execute_result"
    }
   ],
   "source": [
    "# exploring rna_data\n",
    "rna_data.index\n",
    "rna_data.columns\n",
    "rna_data.shape\n",
    "\n",
    "# exploring clinical_data\n",
    "clinical_data.index\n",
    "clinical_data.columns\n",
    "clinical_data.shape"
   ]
  },
  {
   "cell_type": "markdown",
   "id": "678dd25d",
   "metadata": {},
   "source": [
    "The values in the rna_data dataframe represent the relative fold change expression of various transcripts. The number of rows of high_TP53, rna_data, and clinical_data are the same at 211, but the number of columns varies between dataframe."
   ]
  },
  {
   "cell_type": "markdown",
   "id": "67f6107d",
   "metadata": {},
   "source": [
    "The dimensions for each dataframe might not be equal depending on if you masked some patients. That's where the `intersect1d()` function from numpy becomes really useful, especially if we want to analyze transcriptomics, proteomics, and clinical data together. This lets us see which patient barcodes are shared between the data frames.\n",
    "\n",
    "\n",
    "Let's take a look at all of the patients who are older than 50 years old at the time of diagnosis. \n",
    "<br></br>\n",
    "**Exercise 3.3**\n",
    "1.  Use the clinical data DataFrame to create a boolean mask for the condition of patients being older than 50.\n",
    "2.  Mask the clinical data and assign it to a DataFrame called 'masked_clinical'."
   ]
  },
  {
   "cell_type": "code",
   "execution_count": 15,
   "id": "27343c31",
   "metadata": {},
   "outputs": [],
   "source": [
    "old_boolean_vector = (clinical_data.loc[:, \"Age\"] > 50)\n",
    "masked_clinical = clinical_data.loc[old_boolean_vector, :]"
   ]
  },
  {
   "cell_type": "markdown",
   "id": "d356f73c",
   "metadata": {},
   "source": [
    "Now that we have masked our data, if we tried to do an analysis using the different data frames, we would get a lot of errors since we are now missing some patients in our masked_clinical data frame. If we want to get the patients who are present in the masked data as well as the rna_data and protein_data, we can use intersect1d().\n",
    "\n",
    "**Exercise 3.4**\n",
    "1. Use `intersect1d()` from np to create a list that contains the patient IDs for each pair of data frames as mentioned below. (Hint: this function takes two 1d arrays, which would be patient IDs from two different dataframes. How do we get this from each dataframe? Are patient IDs rows or columns?) \n",
    "2. Use a for loop to print the lengths of these three data frames, and compare them to the number of rows. The for loop skeleton is below. What do you notice about the three lengths? Do the numbers correspond to anything in particular?\n",
    "3. Finally, identify which intersection contains the patient IDs where there is data for all three levels of data (proteomics, transcriptomics, and clinical). How can we tell?"
   ]
  },
  {
   "cell_type": "code",
   "execution_count": 16,
   "id": "6daf99fa",
   "metadata": {},
   "outputs": [
    {
     "name": "stdout",
     "output_type": "stream",
     "text": [
      "The length of protein_data ∩ rna_data is 211\n",
      "The length of rna_data ∩ masked_clinical is 187\n",
      "The length of masked_clinical ∩ protein_data is 187\n"
     ]
    }
   ],
   "source": [
    "# 1.\n",
    "name_intersects = [\n",
    "    np.intersect1d(protein_data.index, rna_data.index),\n",
    "    np.intersect1d(rna_data.index, masked_clinical.index),\n",
    "    np.intersect1d(protein_data.index, masked_clinical.index),\n",
    "]\n",
    "\n",
    "# 2. Print the lengths here\n",
    "df_names = [\"protein_data\", \"rna_data\", \"masked_clinical\", \"protein_data\"]\n",
    "for i in range(len(name_intersects)):\n",
    "    print(f\"The length of {df_names[i]} ∩ {df_names[i+1]} is {name_intersects[i].shape[0]}\")\n",
    "    \n",
    "# 3. Which comparison(s) contain the patient names that have all three levels?"
   ]
  },
  {
   "cell_type": "markdown",
   "id": "8160cae2",
   "metadata": {},
   "source": [
    "The comparison between protein data (proteomics) and RNA data (transcriptomics) contained all patient names."
   ]
  },
  {
   "cell_type": "markdown",
   "id": "f34fa008",
   "metadata": {},
   "source": [
    "## (4) Examining the Clinical Data"
   ]
  },
  {
   "cell_type": "markdown",
   "id": "1c16ae96",
   "metadata": {},
   "source": [
    "Let's explore the clinical data in more detail.\n",
    "\n",
    "First, use head() to glance as to what data is available."
   ]
  },
  {
   "cell_type": "code",
   "execution_count": 114,
   "id": "60fe1771",
   "metadata": {},
   "outputs": [
    {
     "data": {
      "text/html": [
       "<div>\n",
       "<style scoped>\n",
       "    .dataframe tbody tr th:only-of-type {\n",
       "        vertical-align: middle;\n",
       "    }\n",
       "\n",
       "    .dataframe tbody tr th {\n",
       "        vertical-align: top;\n",
       "    }\n",
       "\n",
       "    .dataframe thead th {\n",
       "        text-align: right;\n",
       "    }\n",
       "</style>\n",
       "<table border=\"1\" class=\"dataframe\">\n",
       "  <thead>\n",
       "    <tr style=\"text-align: right;\">\n",
       "      <th>Name</th>\n",
       "      <th>Sample.IDs</th>\n",
       "      <th>Sample_Tumor_Normal</th>\n",
       "      <th>Smoking.Status</th>\n",
       "      <th>Stage</th>\n",
       "      <th>Region.of.Origin</th>\n",
       "      <th>Country.of.Origin</th>\n",
       "      <th>Age</th>\n",
       "      <th>Gender</th>\n",
       "      <th>Ethnicity</th>\n",
       "      <th>Height.cm</th>\n",
       "      <th>Weight.kg</th>\n",
       "      <th>BMI</th>\n",
       "      <th>Cigarettes.per.Day</th>\n",
       "      <th>Pack.Years.Smoked</th>\n",
       "      <th>Smoking.History</th>\n",
       "      <th>Secondhand.Smoke</th>\n",
       "    </tr>\n",
       "    <tr>\n",
       "      <th>Patient_ID</th>\n",
       "      <th></th>\n",
       "      <th></th>\n",
       "      <th></th>\n",
       "      <th></th>\n",
       "      <th></th>\n",
       "      <th></th>\n",
       "      <th></th>\n",
       "      <th></th>\n",
       "      <th></th>\n",
       "      <th></th>\n",
       "      <th></th>\n",
       "      <th></th>\n",
       "      <th></th>\n",
       "      <th></th>\n",
       "      <th></th>\n",
       "      <th></th>\n",
       "    </tr>\n",
       "  </thead>\n",
       "  <tbody>\n",
       "    <tr>\n",
       "      <th>C3L-00001</th>\n",
       "      <td>C3L.00001</td>\n",
       "      <td>Tumor</td>\n",
       "      <td>non-smoker</td>\n",
       "      <td>2A</td>\n",
       "      <td>western</td>\n",
       "      <td>usa</td>\n",
       "      <td>61.0</td>\n",
       "      <td>female</td>\n",
       "      <td>caucasian</td>\n",
       "      <td>180.3</td>\n",
       "      <td>71.6</td>\n",
       "      <td>22.03</td>\n",
       "      <td>NaN</td>\n",
       "      <td>NaN</td>\n",
       "      <td>Lifelong non-smoker: Less than 100 cigarettes ...</td>\n",
       "      <td>Yes</td>\n",
       "    </tr>\n",
       "    <tr>\n",
       "      <th>C3L-00009</th>\n",
       "      <td>C3L.00009</td>\n",
       "      <td>Tumor</td>\n",
       "      <td>smoker</td>\n",
       "      <td>1A</td>\n",
       "      <td>western</td>\n",
       "      <td>usa</td>\n",
       "      <td>76.0</td>\n",
       "      <td>male</td>\n",
       "      <td>caucasian</td>\n",
       "      <td>172.0</td>\n",
       "      <td>85.0</td>\n",
       "      <td>28.67</td>\n",
       "      <td>20.0</td>\n",
       "      <td>62.0</td>\n",
       "      <td>Current smoker: Includes daily and non-daily s...</td>\n",
       "      <td>Exposure to secondhand smoke history not avail...</td>\n",
       "    </tr>\n",
       "    <tr>\n",
       "      <th>C3L-00080</th>\n",
       "      <td>C3L.00080</td>\n",
       "      <td>Tumor</td>\n",
       "      <td>smoker</td>\n",
       "      <td>1B</td>\n",
       "      <td>western</td>\n",
       "      <td>other</td>\n",
       "      <td>58.0</td>\n",
       "      <td>male</td>\n",
       "      <td>caucasian</td>\n",
       "      <td>170.0</td>\n",
       "      <td>88.5</td>\n",
       "      <td>30.62</td>\n",
       "      <td>20.0</td>\n",
       "      <td>40.0</td>\n",
       "      <td>Current smoker: Includes daily and non-daily s...</td>\n",
       "      <td>Exposure to secondhand smoke history not avail...</td>\n",
       "    </tr>\n",
       "    <tr>\n",
       "      <th>C3L-00083</th>\n",
       "      <td>C3L.00083</td>\n",
       "      <td>Tumor</td>\n",
       "      <td>NaN</td>\n",
       "      <td>1B</td>\n",
       "      <td>western</td>\n",
       "      <td>usa</td>\n",
       "      <td>71.0</td>\n",
       "      <td>male</td>\n",
       "      <td>caucasian</td>\n",
       "      <td>177.0</td>\n",
       "      <td>92.0</td>\n",
       "      <td>29.37</td>\n",
       "      <td>NaN</td>\n",
       "      <td>NaN</td>\n",
       "      <td>Smoking history not available</td>\n",
       "      <td>Exposure to secondhand smoke history not avail...</td>\n",
       "    </tr>\n",
       "    <tr>\n",
       "      <th>C3L-00093</th>\n",
       "      <td>C3L.00093</td>\n",
       "      <td>Tumor</td>\n",
       "      <td>non-smoker</td>\n",
       "      <td>1B</td>\n",
       "      <td>western</td>\n",
       "      <td>usa</td>\n",
       "      <td>66.0</td>\n",
       "      <td>female</td>\n",
       "      <td>caucasian</td>\n",
       "      <td>157.0</td>\n",
       "      <td>84.0</td>\n",
       "      <td>34.08</td>\n",
       "      <td>NaN</td>\n",
       "      <td>NaN</td>\n",
       "      <td>Lifelong non-smoker: Less than 100 cigarettes ...</td>\n",
       "      <td>Exposure to secondhand smoke history not avail...</td>\n",
       "    </tr>\n",
       "  </tbody>\n",
       "</table>\n",
       "</div>"
      ],
      "text/plain": [
       "Name       Sample.IDs Sample_Tumor_Normal Smoking.Status Stage  \\\n",
       "Patient_ID                                                       \n",
       "C3L-00001   C3L.00001               Tumor     non-smoker    2A   \n",
       "C3L-00009   C3L.00009               Tumor         smoker    1A   \n",
       "C3L-00080   C3L.00080               Tumor         smoker    1B   \n",
       "C3L-00083   C3L.00083               Tumor            NaN    1B   \n",
       "C3L-00093   C3L.00093               Tumor     non-smoker    1B   \n",
       "\n",
       "Name       Region.of.Origin Country.of.Origin   Age  Gender  Ethnicity  \\\n",
       "Patient_ID                                                               \n",
       "C3L-00001           western               usa  61.0  female  caucasian   \n",
       "C3L-00009           western               usa  76.0    male  caucasian   \n",
       "C3L-00080           western             other  58.0    male  caucasian   \n",
       "C3L-00083           western               usa  71.0    male  caucasian   \n",
       "C3L-00093           western               usa  66.0  female  caucasian   \n",
       "\n",
       "Name        Height.cm  Weight.kg    BMI  Cigarettes.per.Day  \\\n",
       "Patient_ID                                                    \n",
       "C3L-00001       180.3       71.6  22.03                 NaN   \n",
       "C3L-00009       172.0       85.0  28.67                20.0   \n",
       "C3L-00080       170.0       88.5  30.62                20.0   \n",
       "C3L-00083       177.0       92.0  29.37                 NaN   \n",
       "C3L-00093       157.0       84.0  34.08                 NaN   \n",
       "\n",
       "Name        Pack.Years.Smoked  \\\n",
       "Patient_ID                      \n",
       "C3L-00001                 NaN   \n",
       "C3L-00009                62.0   \n",
       "C3L-00080                40.0   \n",
       "C3L-00083                 NaN   \n",
       "C3L-00093                 NaN   \n",
       "\n",
       "Name                                          Smoking.History  \\\n",
       "Patient_ID                                                      \n",
       "C3L-00001   Lifelong non-smoker: Less than 100 cigarettes ...   \n",
       "C3L-00009   Current smoker: Includes daily and non-daily s...   \n",
       "C3L-00080   Current smoker: Includes daily and non-daily s...   \n",
       "C3L-00083                       Smoking history not available   \n",
       "C3L-00093   Lifelong non-smoker: Less than 100 cigarettes ...   \n",
       "\n",
       "Name                                         Secondhand.Smoke  \n",
       "Patient_ID                                                     \n",
       "C3L-00001                                                 Yes  \n",
       "C3L-00009   Exposure to secondhand smoke history not avail...  \n",
       "C3L-00080   Exposure to secondhand smoke history not avail...  \n",
       "C3L-00083   Exposure to secondhand smoke history not avail...  \n",
       "C3L-00093   Exposure to secondhand smoke history not avail...  "
      ]
     },
     "execution_count": 114,
     "metadata": {},
     "output_type": "execute_result"
    }
   ],
   "source": [
    "clinical_data.head()"
   ]
  },
  {
   "cell_type": "markdown",
   "id": "77030e93",
   "metadata": {},
   "source": [
    "**Exercise 4.1** You might notice that the Age column values don't look like years -- they're in months. Create a new column called \"Age\" with the \"Age.in.Month\" values / 12. Then, use head() again to make sure the ages were converted."
   ]
  },
  {
   "cell_type": "code",
   "execution_count": 112,
   "id": "e2b7a6d2",
   "metadata": {},
   "outputs": [
    {
     "data": {
      "text/plain": [
       "Index(['Sample.IDs', 'Sample_Tumor_Normal', 'Smoking.Status', 'Stage',\n",
       "       'Region.of.Origin', 'Country.of.Origin', 'Age', 'Gender', 'Ethnicity',\n",
       "       'Height.cm', 'Weight.kg', 'BMI', 'Cigarettes.per.Day',\n",
       "       'Pack.Years.Smoked', 'Smoking.History', 'Secondhand.Smoke'],\n",
       "      dtype='object', name='Name')"
      ]
     },
     "execution_count": 112,
     "metadata": {},
     "output_type": "execute_result"
    }
   ],
   "source": [
    "# convert ages here!"
   ]
  },
  {
   "cell_type": "markdown",
   "id": "a7e704a4",
   "metadata": {},
   "source": [
    "There may be control (non-cancer) tissue samples in some datasets. Let's determine whether we need to account for this in our dataset this using the unique() function from numpy.\n",
    "\n",
    "__Exercise 4.2__ Call the unique() function on the Sample_Tumor_Normal column. The function will return the unique values in the column in a sorted order -- this is super useful for examining categorical variables, like tumor stage and tumor status, for example."
   ]
  },
  {
   "cell_type": "code",
   "execution_count": 115,
   "id": "5b56fa09",
   "metadata": {},
   "outputs": [
    {
     "data": {
      "text/plain": [
       "array(['Tumor', 'Normal'], dtype=object)"
      ]
     },
     "execution_count": 115,
     "metadata": {},
     "output_type": "execute_result"
    }
   ],
   "source": [
    "# Get the levels of the Sample_Tumor_Normal column with unique()\n",
    "clinical_data.loc[:, \"Sample_Tumor_Normal\"].unique()"
   ]
  },
  {
   "cell_type": "markdown",
   "id": "5b1338d1",
   "metadata": {},
   "source": [
    "__Exercise 4.3__ Let's examine how tumor stage varies as a function of age:\n",
    "\n",
    "   1. Import the plotting libraries matplotlib.pyplot and seaborn (use the standard abbreviations presented last time, seaborn is sns).\n",
    "   2. Create an age_category column in clinical_data. Define \"Young\" as under the median age, and \"Old\" as the median age and older. (Hint: use the where() function from numpy, the equivalent to ifelse()).\n",
    "   3. The \"Stage\" information for some of these patients is NaN (the pandas version of NA). Use the isna() function from pandas and boolean indexing (i.e. where() from numpy again) to remove any patients with NaN values in \"Stage\".\n",
    "   4. Using nested for loop and boolean indexing, count the number of old and young patients that have Stage I, Stage II, Stage III, and Stage IV cancer.\n",
    "   5. Use the skeleton code to draw the barplot. Do your numbers make sense?"
   ]
  },
  {
   "cell_type": "code",
   "execution_count": 19,
   "id": "d32a5e3c",
   "metadata": {},
   "outputs": [
    {
     "data": {
      "text/plain": [
       "array(['Stage 1', 'Stage 1A', 'Stage 1B', 'Stage 2A', 'Stage 2B',\n",
       "       'Stage 3', 'Stage 3A'], dtype=object)"
      ]
     },
     "execution_count": 19,
     "metadata": {},
     "output_type": "execute_result"
    }
   ],
   "source": [
    "stage_categories"
   ]
  },
  {
   "cell_type": "code",
   "execution_count": 18,
   "id": "3d9b0202",
   "metadata": {},
   "outputs": [
    {
     "name": "stdout",
     "output_type": "stream",
     "text": [
      "Old\n",
      "Young\n"
     ]
    },
    {
     "data": {
      "image/png": "[encoded data removed]",
      "text/plain": [
       "<Figure size 640x480 with 1 Axes>"
      ]
     },
     "metadata": {},
     "output_type": "display_data"
    }
   ],
   "source": [
    "# 1. Import libraries here\n",
    "import matplotlib.pyplot as plt\n",
    "import seaborn as sns\n",
    "import statistics as stats\n",
    "\n",
    "\n",
    "# 2. Create the age_category column in clinical_data\n",
    "median_age = stats.median(clinical_data.loc[:, \"Age\"])\n",
    "younger_than_median = (clinical_data.loc[:, \"Age\"] < median_age)\n",
    "clinical_data[\"age_category\"] = np.where(younger_than_median, \"Young\", \"Old\")\n",
    "\n",
    "\n",
    "# 3. Filter our NaN\n",
    "not_na_clinical = clinical_data.notna()\n",
    "clinical_data = clinical_data.loc[not_na_clinical.loc[:, \"Stage\"], :]\n",
    "\n",
    "## this will programatically get all the stages in order\n",
    "stage_categories = np.unique(clinical_data.loc[:, 'Stage'])\n",
    "for i in range(len(stage_categories)):\n",
    "    stage_categories[i] = \"Stage \" + stage_categories[i]\n",
    "assert(np.all(stage_categories == ['Stage 1', 'Stage 1A', 'Stage 1B', 'Stage 2A', 'Stage 2B',\n",
    "                                    'Stage 3', 'Stage 3A']))\n",
    "\n",
    "\n",
    "# 4. Loop through all the stage categories and count\n",
    "stage_cat_counts = []\n",
    "\n",
    "for age_cat in [\"Old\", \"Young\"]: # first get the old data, then the young data\n",
    "    print(age_cat)\n",
    "    \n",
    "    # 1. create a subset of the data frame with the old/young patients\n",
    "    age_cat_clinical = clinical_data.loc[clinical_data.age_category == age_cat, :]\n",
    "   \n",
    "    # fill this in with the cancer category:\n",
    "    for stage in stage_categories:\n",
    "        # 2. count the number of patients with the stage of cancer and print\n",
    "        stage_boolean_vector = (age_cat_clinical.loc[:, \"Stage\"] == stage)\n",
    "        stage_cat_counts.append(stage_boolean_vector.sum())\n",
    "\n",
    "stage_cat_counts = np.asarray(stage_cat_counts)\n",
    "        \n",
    "# 5. Create a barplot to compare your results\n",
    "sns.countplot(\n",
    "    x = \"age_category\",\n",
    "    hue = \"Stage\",\n",
    "    hue_order = stage_categories,\n",
    "    data = clinical_data\n",
    ")\n",
    "\n",
    "plt.show()"
   ]
  },
  {
   "cell_type": "markdown",
   "id": "c5b41b9e",
   "metadata": {},
   "source": [
    "## (5) Plotting Proteomic Data"
   ]
  },
  {
   "cell_type": "markdown",
   "id": "456a052b",
   "metadata": {},
   "source": [
    "Let's explore how the proteomic expression of a gene differs between young and old patients.\n",
    "\n",
    "**Exercise 5.1** Plot the expression data of a chosen protein stratified between patients older and younger than the median age."
   ]
  },
  {
   "cell_type": "code",
   "execution_count": 60,
   "id": "73359e8c",
   "metadata": {},
   "outputs": [
    {
     "data": {
      "text/plain": [
       "[array([ 4.8596, -0.6443,  0.6554, -1.3538, -3.3593, -0.9575,  3.3035,\n",
       "        -2.0014, -2.2513, -2.395 , -4.915 , -0.0524, -1.4754,  0.257 ,\n",
       "        -2.6401, -4.0908,  0.5882, -1.8356, -0.6118, -2.3928,  0.6857,\n",
       "        -0.7798, -4.3612,  3.9361,  1.6797,  4.278 , -1.571 , -3.7253,\n",
       "         0.8103,  2.4753,  0.2151, -2.312 , -2.648 ,  1.9408, -3.1686,\n",
       "        -1.2094, -2.8573,  0.6908, -1.0142,  4.3315,  1.9905, -2.5412,\n",
       "        -1.7981, -0.2782, -3.6059, -2.507 , -1.0763, -2.1603,  0.3494,\n",
       "        -2.9216, -0.4365, -5.2037, -2.3341, -3.9874, -2.6038, -0.6236,\n",
       "        -0.6896, -2.0498, -1.0956, -0.6639, -3.8459, -0.9374, -2.4811,\n",
       "         0.1706, -4.2466, -1.9528, -1.5285, -0.0767, -4.6141, -0.4462,\n",
       "        -1.1659, -2.1971, -2.6029, -2.3276, -3.6529, -1.0071,  0.6538,\n",
       "        -2.928 , -1.5409, -2.0448, -1.1202]),\n",
       " array([ 3.2419,  2.5045,  1.6045, -1.6456, -2.1466, -1.8259, -2.1037,\n",
       "         5.2633,  2.698 , -2.7388, -0.8681,  0.5406,  1.3699,  0.8427,\n",
       "         6.8006,  3.3005,  8.7526, -6.1396,  2.5888, -1.4426, -2.5054,\n",
       "        -1.332 ,  2.0855, -1.2648, -3.3124,  1.6052, -2.6922, -2.3243,\n",
       "         4.534 ,  4.0816, -4.0144, -0.0634, -2.1226, -4.8294,  1.1106,\n",
       "        -2.6569,  1.2677,  3.7286, -2.0257,  3.3435,  1.0051, -0.6342,\n",
       "         2.5927, -2.6947, -0.6764,  0.239 , -1.5086, -2.013 , -1.5332,\n",
       "        -1.335 , -0.9771, -2.261 , -2.1926, -4.2485, -0.5353,  0.9716,\n",
       "        -1.1267, -2.2889, -2.9059, -3.9018, -2.9773, -2.3306, -5.4835,\n",
       "        -5.0452, -0.5773, -0.2934, -1.422 , -1.0915, -1.7983, -0.2175,\n",
       "        -2.1377,  0.0979, -3.7308, -2.4213, -1.8042, -2.8258, -3.0892,\n",
       "        -1.1333, -0.454 ])]"
      ]
     },
     "execution_count": 60,
     "metadata": {},
     "output_type": "execute_result"
    }
   ],
   "source": [
    "import statistics\n",
    "\n",
    "clinical_data = luad.get_clinical()\n",
    "\n",
    "median_age = statistics.median(clinical_data.loc[:, 'Age'])\n",
    "young_mask = (clinical_data.loc[:, 'Age'] < median_age)\n",
    "old_mask = (clinical_data.loc[:, 'Age'] >= median_age)\n",
    "\n",
    "young = (protein_data.loc[young_mask, 'TP53']).dropna()\n",
    "old = (protein_data.loc[old_mask, 'TP53']).dropna()\n",
    "\n",
    "data = [old.values, young.values] # our boxplot function will require an array (or an array of arrays)\n",
    "data"
   ]
  },
  {
   "cell_type": "code",
   "execution_count": 61,
   "id": "01ad52bc",
   "metadata": {},
   "outputs": [
    {
     "data": {
      "image/png": "[encoded data removed]",
      "text/plain": [
       "<Figure size 640x480 with 1 Axes>"
      ]
     },
     "metadata": {},
     "output_type": "display_data"
    }
   ],
   "source": [
    "import matplotlib.pyplot as plt\n",
    "\n",
    "fig, ax = plt.subplots()\n",
    "\n",
    "plt.axhline(y = 0, color = 'blue', linestyle = '-')\n",
    "plt.axhline(y = -1, color = 'blue', linestyle = ':')\n",
    "plt.axhline(y = 1, color = 'blue', linestyle = ':')\n",
    "\n",
    "\n",
    "bp = ax.boxplot(data) # data goes here\n",
    "plt.xticks([1, 2], [\"young\", \"old\"]) # use \\n for new line if desired\n",
    "\n",
    "\n",
    "plt.show()"
   ]
  },
  {
   "cell_type": "markdown",
   "id": "25e3f44f",
   "metadata": {},
   "source": [
    "**Exercise 5.2** Why do you think we added lines at -1, 0, and 1? What do these values represent in terms of log2FoldChange?"
   ]
  },
  {
   "cell_type": "code",
   "execution_count": null,
   "id": "73715440",
   "metadata": {},
   "outputs": [],
   "source": [
    "# answer in a comment here"
   ]
  },
  {
   "cell_type": "markdown",
   "id": "fa7c2940",
   "metadata": {},
   "source": [
    "## (6) SciPy\n",
    "Another question to ask is if the levels of RNA expression correlate with protein expression. While we would expect for there to be a 1:1 relationship between RNA and protein (according to the central dogma), as you will see, this is not what we oftentimes observe."
   ]
  },
  {
   "cell_type": "code",
   "execution_count": 51,
   "id": "f5be4586",
   "metadata": {},
   "outputs": [],
   "source": [
    "from scipy import stats # we are using the stats package in particular"
   ]
  },
  {
   "cell_type": "markdown",
   "id": "6d033105",
   "metadata": {},
   "source": [
    "The first thing we need to do is to identify which patients and genes are shared between the transcriptomic and proteomic data sets.\n",
    "\n",
    "For some cancer, patients doesn't have clinical or transcriptomic data in CPTAC. We need to use intersect1d() to fix this. We also need to use intersect1d() to determine which genes are shared.\n",
    "\n",
    "**Exercise 6.1** To make sure the data frames match:\n",
    "\n",
    "1. Identify patients that are shared between transcriptomic and proteomics data (hint: use intersect1d()). \n",
    "2. Identify the names of the genes that are shared between the two datasets (hint: use intersect1d()). Is this data the row or column names?\n",
    "3. Create the rna_shared and prot_shared data frames; ie dataframes with only genes and patients that are shared between rna and protein data. (Hint: how can we access rows/columns by name?)."
   ]
  },
  {
   "cell_type": "code",
   "execution_count": null,
   "id": "a5cf7b19",
   "metadata": {},
   "outputs": [],
   "source": [
    "# 1. Identify the patients shared between RNA and protein data.\n",
    "shared_patients_prot = intersect1d(protein_data.index, rna_data.index)\n",
    "\n",
    "# 2. Identify the genes (RNA, protein) shared between the two data sets \n",
    "shared_rna_prot = \n",
    "\n",
    "# 3. Create the two data frames\n",
    "rna_shared = FILL IN HERE\n",
    "prot_shared = FILL IN HERE"
   ]
  },
  {
   "cell_type": "markdown",
   "id": "7a365ac5",
   "metadata": {},
   "source": [
    "Now, we can see how correlated the RNA and protein levels are. We'll use Spearman correlation from the stats library, which is spearmanr().\n",
    "\n",
    "**Exercise 6.2** Choose a gene and get the Spearman correlation of the rna to protein of that gene."
   ]
  },
  {
   "cell_type": "code",
   "execution_count": null,
   "id": "ffc0f52b",
   "metadata": {},
   "outputs": [],
   "source": [
    "# we need the nan_policy=\"omit\" to throw out NaN values\n",
    "corr, pval = stats.spearmanr(rna_shared[\"FILL IN HERE\"], prot_shared[\"FILL IN HERE\"], nan_policy=\"omit\")\n",
    "\n",
    "print(f\"The correlation of FILL IN HERE is {round(corr, 3)} (p = {round(pval, 10)}).\")"
   ]
  },
  {
   "cell_type": "markdown",
   "id": "21464da2",
   "metadata": {},
   "source": [
    "**Exercise 6.3** What is your gene's Spearman correlation? What does that mean mathematically? What could this represent biologically? Look into the literature to see if it corroborates this idea."
   ]
  },
  {
   "cell_type": "code",
   "execution_count": null,
   "id": "f424914b",
   "metadata": {},
   "outputs": [],
   "source": [
    "# answer in a comment here"
   ]
  },
  {
   "cell_type": "markdown",
   "id": "d123f959",
   "metadata": {},
   "source": [
    "## (7) Heatmaps\n",
    "**Exercise 7.1** A problem arises if we want to compare many correlations. Heatmaps are useful for visualizing a large number of comparisons. To make a heatmap, we'll use the heatmap() function from seaborn. Let's do the following:\n",
    "\n",
    "1. Set up our data frame to hold all comparisons. All you need to do is to access the first 20 gene names.\n",
    "2. Calculate the correlations for the first 20 genes (just to save time). You'll need to use two for loops.\n",
    "3. Call heatmap() -- this is filled in for you!\n",
    "4. Interpret the data. There is a \"light\" diagonal along the heatmap from the top-left to bottom-right. Is this expected? Why or why not?"
   ]
  },
  {
   "cell_type": "code",
   "execution_count": null,
   "id": "79e1b2a0",
   "metadata": {},
   "outputs": [],
   "source": [
    "# import seaborn as sns"
   ]
  },
  {
   "cell_type": "code",
   "execution_count": null,
   "id": "5149313c",
   "metadata": {},
   "outputs": [],
   "source": [
    "ncomparisons = 20 # define this variable in case we want to change the number of correlations to test\n",
    "                  # this makes it less likely you'll forget to change a number, e.g. in the data frame shape\n",
    "gene_names = FILL IN HERE # get the first ncomparisons gene names\n",
    "\n",
    "\n",
    "# Don't worry about this code\n",
    "# It's good practice to declare your data frame beforehand (it's much faster than appending to a list)\n",
    "# We fill everything in with 0 just as a placeholder\n",
    "corr_df = pd.DataFrame(np.ndarray(shape=(ncomparisons, ncomparisons), dtype=np.float16),\n",
    "                      index = gene_names,\n",
    "                      columns = gene_names)\n",
    "\n",
    "# 2. fill in the data frame!\n",
    "for g1 in gene_names:\n",
    "    for g2 in gene_names:\n",
    "        # calculate the correlations between protein and RNA\n",
    "        # then, use .loc[] to store the correlation in corr_df\n",
    "        FILL IN HERE\n",
    "\n",
    "# 3. create the heat map\n",
    "plot = sns.heatmap(\n",
    "    corr_df,\n",
    "    cmap='mako',\n",
    ")\n",
    "plot.set_xlabel('Protein', fontsize=10)\n",
    "plot.set_ylabel('RNA', fontsize=10)\n",
    "plt.show()\n",
    "\n",
    "# 4. interpret!"
   ]
  },
  {
   "cell_type": "markdown",
   "id": "127284e2",
   "metadata": {},
   "source": [
    "## (8) More with Seaborn\n",
    "seaborn is a nice package which works well with matplotlib and makes prettier plots with more control over the figure.\n",
    "\n",
    "Here's how you make a scatter plot with seaborn, for example:"
   ]
  },
  {
   "cell_type": "code",
   "execution_count": null,
   "id": "e7d72523",
   "metadata": {},
   "outputs": [],
   "source": [
    "fig, ax = plt.subplots()\n",
    "\n",
    "sns.scatterplot( # x-axis\n",
    "    x = clinical_data.loc[:, \"Age.in.Month\"],\n",
    "    y = protein_data.loc[:, \"DYNLT3\"],# y-axis\n",
    "    legend = \"full\",  # show the legend\n",
    "    ax = ax  # necessary for when plotting more than 1 subplot\n",
    ")\n",
    "\n",
    "fig.suptitle('Age vs. DYNLT3')  # set title\n",
    "\n",
    "plt.show()"
   ]
  },
  {
   "cell_type": "markdown",
   "id": "2b2a98a7",
   "metadata": {},
   "source": [
    "**Exercise 8.1** Update the above plot to:\n",
    "\n",
    "1. Have age in years instead of months.\n",
    "2. Color patients based on gender (or another clinical variable of your choosing)\n",
    "3. Have a side-by-side second plot with a different protein of your choosing"
   ]
  },
  {
   "cell_type": "code",
   "execution_count": null,
   "id": "0a02927d",
   "metadata": {},
   "outputs": [],
   "source": [
    "# create plot here"
   ]
  },
  {
   "cell_type": "markdown",
   "id": "392e7cd4",
   "metadata": {},
   "source": [
    "## (9) Saving Plots\n",
    "Remember, to save a plot, we can call plt.savefig() instead of the plt.show()."
   ]
  },
  {
   "cell_type": "code",
   "execution_count": null,
   "id": "d83d3ddc",
   "metadata": {},
   "outputs": [],
   "source": [
    "fig, ax = plt.subplots()\n",
    "\n",
    "sns.scatterplot( # x-axis\n",
    "    x = clinical_data.loc[:, \"Age.in.Month\"],\n",
    "    y = protein_data.loc[:, \"DYNLT3\"],# y-axis\n",
    "    legend = \"full\",  # show the legend\n",
    "    ax = ax  # necessary for when plotting more than 1 subplot\n",
    ")\n",
    "\n",
    "fig.suptitle('Age vs. DYNLT3')  # set title\n",
    "\n",
    "# age_scatter.png is a relative path so check your working directory before running it\n",
    "plt.savefig('age_scatter.png', bbox_inches='tight')"
   ]
  },
  {
   "cell_type": "markdown",
   "id": "bb00966a",
   "metadata": {},
   "source": [
    "# Exercises\n",
    "Only this section will be graded!\n",
    "## 1. Drawing Connections\n",
    "1. Choose a clinical variable and segment the cohort into two groups. \n",
    "2. Find out what the 5 most differentially expressed genes are (we aren't going to do this in a sophisticated way like DESeq, instead just take the mean expression of every single gene within a group and find the gene which has the greatest difference in mean between the two groups)\n",
    "3. Create two scatter plots, side by side, each with one group. Within the scatter plots, plot RNA expression versus protein expression for each of the genes in a different color.\n",
    "4. Add appropriate legend, title, and labels."
   ]
  },
  {
   "cell_type": "code",
   "execution_count": 1,
   "id": "db07b231",
   "metadata": {},
   "outputs": [],
   "source": [
    "# write code here"
   ]
  },
  {
   "cell_type": "markdown",
   "id": "d374d6f3",
   "metadata": {},
   "source": [
    "## 2. Interpretation Skills\n",
    "This section is short-answer based written responses. Please respond in 2-3 sentences to each question below for full credit.\n",
    "1. What do the numbers within the protein and transcriptomics DataFrames represent? Why do we represent them this way?\n",
    "2. Why are there fewer columns in the protein DataFrame than the transcriptomics one?\n",
    "3. Explain how the central dogma may be broken in between DNA -> RNA -> Proteins and how this might affect our proteomics data.\n",
    "4. Why is proteomics data relatively scarce compared to sequencing data?\n",
    "5. Should we ever expect protein expression to be 0 in a tumor sample?\n",
    "6. What are protein domains and how do they relate to the role of a protein?\n"
   ]
  },
  {
   "cell_type": "code",
   "execution_count": null,
   "id": "c9b9c9ca",
   "metadata": {},
   "outputs": [],
   "source": [
    "# answer questions here"
   ]
  },
  {
   "cell_type": "markdown",
   "id": "6b5fe38f",
   "metadata": {},
   "source": [
    "## 3. Challenge Exercise - Incorporating Genomics\n",
    "This exercise is optional and is worth extra credit up to 5 points. The combined extra credit between challenge exercises will cap out at 5 points total.\n",
    "<br></br>\n",
    "We can get somatic mutation data for cptac patients the same way we get proteomics, transcriptomical, or clinical. Let's explore some aspects of it.\n",
    "1. Save the cancer somatic mutation data to `mutation_data`\n",
    "2. Determine the top 10 most commonly mutated genes within the dataset.\n",
    "3. Determine what percent of patients have a mutation in at least one of those genes.\n",
    "4. Create a bar plot that shows percent percent of patients that have exactly 0-10 out of 10 of those mutations. Name axes and titles appropriately."
   ]
  },
  {
   "cell_type": "code",
   "execution_count": null,
   "id": "6c491898",
   "metadata": {},
   "outputs": [],
   "source": [
    "# write code here"
   ]
  }
 ],
 "metadata": {
  "kernelspec": {
   "display_name": "Python 3 (ipykernel)",
   "language": "python",
   "name": "python3"
  },
  "language_info": {
   "codemirror_mode": {
    "name": "ipython",
    "version": 3
   },
   "file_extension": ".py",
   "mimetype": "text/x-python",
   "name": "python",
   "nbconvert_exporter": "python",
   "pygments_lexer": "ipython3",
   "version": "3.11.5"
  }
 },
 "nbformat": 4,
 "nbformat_minor": 5
}
