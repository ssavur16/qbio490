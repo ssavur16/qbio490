{
 "cells": [
  {
   "cell_type": "markdown",
   "id": "14a58c8c",
   "metadata": {},
   "source": [
    "# Python Review Project\n",
    "## Part 2 - Applying ML to Cancer Data Analysis\n",
    "For this project, you will create a machine learning model to predict the stage of cancer (I, II, III, or IV) from both RNA and protein-level gene expression for clear cell renal cell carcinoma (CCRCC) in CPTAC. Stage of cancer can be found using the tumor_stage_pathological column within the CPTAC clinical data. You can access the data the exact same way as BRCA, substituting the accession code."
   ]
  },
  {
   "cell_type": "markdown",
   "id": "2829183b",
   "metadata": {},
   "source": [
    "**1)** Select what features to include in the model by finding the top 5 most differentially express proteins between Stage I and Stage III patients in CPTAC protein data. Repeat this process to find the top 5 most differential expression RNA between Stage I and Stage III patients in the CPTAC RNA data. Use tumor_stage_pathological in the CPTAC clinical data."
   ]
  },
  {
   "cell_type": "code",
   "execution_count": 132,
   "id": "ce34e44f",
   "metadata": {},
   "outputs": [],
   "source": [
    "import numpy as np\n",
    "import pandas as pd\n",
    "import warnings\n",
    "warnings.filterwarnings('ignore')"
   ]
  },
  {
   "cell_type": "code",
   "execution_count": 1,
   "id": "ccdbe637",
   "metadata": {},
   "outputs": [
    {
     "name": "stdout",
     "output_type": "stream",
     "text": [
      "Checking that ccrcc index is up-to-date...\r"
     ]
    },
    {
     "name": "stderr",
     "output_type": "stream",
     "text": [
      "cptac warning: Your version of cptac (1.1.2) is out-of-date. Latest is 1.5.13. Please run 'pip install --upgrade cptac' to update it. (C:\\Users\\Owner\\anaconda3_new\\Lib\\threading.py, line 975)\n"
     ]
    },
    {
     "name": "stdout",
     "output_type": "stream",
     "text": [
      "                                              \r"
     ]
    }
   ],
   "source": [
    "# download the corresponding cancer data set\n",
    "import cptac\n",
    "\n",
    "cptac.download(dataset=\"Ccrcc\")\n",
    "ccrcc = cptac.Ccrcc()"
   ]
  },
  {
   "cell_type": "code",
   "execution_count": 64,
   "id": "2ae1a3b6",
   "metadata": {},
   "outputs": [
    {
     "name": "stdout",
     "output_type": "stream",
     "text": [
      "Below are the dataframes contained in this dataset and their dimensions:\n",
      "\n",
      "clinical\n",
      "\t194 rows\n",
      "\t171 columns\n",
      "CNV\n",
      "\t110 rows\n",
      "\t19285 columns\n",
      "followup\n",
      "\t352 rows\n",
      "\t27 columns\n",
      "medical_history\n",
      "\t370 rows\n",
      "\t4 columns\n",
      "methylation\n",
      "\t107 rows\n",
      "\t15885 columns\n",
      "phosphoproteomics\n",
      "\t194 rows\n",
      "\t81550 columns\n",
      "phosphoproteomics_gene\n",
      "\t194 rows\n",
      "\t6127 columns\n",
      "proteomics\n",
      "\t194 rows\n",
      "\t11710 columns\n",
      "somatic_mutation\n",
      "\t8350 rows\n",
      "\t3 columns\n",
      "transcriptomics\n",
      "\t185 rows\n",
      "\t19275 columns\n"
     ]
    }
   ],
   "source": [
    "ccrcc.list_data()"
   ]
  },
  {
   "cell_type": "code",
   "execution_count": 26,
   "id": "187cc39e",
   "metadata": {},
   "outputs": [],
   "source": [
    "# get dataframes for protein, RNA, and clinical data\n",
    "protein_data = ccrcc.get_proteomics()\n",
    "protein_data.columns = protein_data.columns.get_level_values(0)\n",
    "rna_data = ccrcc.get_transcriptomics()\n",
    "clinical_data = ccrcc.get_clinical()"
   ]
  },
  {
   "cell_type": "code",
   "execution_count": 36,
   "id": "5938033d",
   "metadata": {
    "scrolled": true
   },
   "outputs": [
    {
     "name": "stdout",
     "output_type": "stream",
     "text": [
      "(194, 11710)\n",
      "(185, 19275)\n",
      "(194, 171)\n"
     ]
    }
   ],
   "source": [
    "print(protein_data.shape)\n",
    "print(rna_data.shape)\n",
    "print(clinical_data.shape)"
   ]
  },
  {
   "cell_type": "code",
   "execution_count": 146,
   "id": "f5edcaff",
   "metadata": {},
   "outputs": [],
   "source": [
    "# only analyze patients shared between data frames\n",
    "clinical_trimmed = clinical_data.loc[np.intersect1d(rna_data.index, clinical_data.index)]\n",
    "protein_trimmed = protein_data.loc[np.intersect1d(rna_data.index, protein_data.index)]\n",
    "\n",
    "# log scale rna_data\n",
    "rna_data = np.log2(rna_data)\n",
    "\n",
    "# drop columns with NA values in protein_data and rna_data\n",
    "protein_trimmed = protein_trimmed.dropna(axis='columns')\n",
    "rna_data = rna_data.dropna(axis='columns')"
   ]
  },
  {
   "cell_type": "code",
   "execution_count": 88,
   "id": "69ffbed2",
   "metadata": {},
   "outputs": [],
   "source": [
    "# find top 5 most differentially expressed proteins between stage i and stage iii\n",
    "stage_i_mask = (clinical_trimmed.loc[:, 'tumor_stage_pathological'] == \"Stage I\")\n",
    "stage_iii_mask = (clinical_trimmed.loc[:, 'tumor_stage_pathological'] == \"Stage III\")\n",
    "\n",
    "stage_i_ptn = protein_trimmed.loc[stage_i_mask, :]\n",
    "stage_iii_ptn = protein_trimmed.loc[stage_iii_mask, :]\n",
    "\n",
    "# compute mean expression of every protein within each group\n",
    "stage_i_ptn_means = stage_i_ptn.mean(axis = 0, skipna = True)\n",
    "stage_iii_ptn_means = stage_iii_ptn.mean(axis = 0, skipna = True)\n",
    "\n",
    "# compute difference in mean protein expression between groups\n",
    "diff_mean_ptn_exp = stage_i_ptn_means - stage_iii_ptn_means\n",
    "diff_mean_ptn_exp = np.asarray(diff_mean_ptn_exp)\n",
    "\n",
    "# converting NA values to 0 in order to compute maximum\n",
    "np.nan_to_num(diff_mean_ptn_exp, copy=False)\n",
    "\n",
    "# find top 5 most differentially expressed proteins\n",
    "ptn_col_indices = []\n",
    "for i in range(5):\n",
    "    max_index = diff_mean_ptn_exp.argmax()\n",
    "    ptn_col_indices.append(max_index)\n",
    "    diff_mean_ptn_exp[max_index] = 0\n",
    "    \n",
    "diffeq_ptns = []\n",
    "for index in ptn_col_indices:\n",
    "    ptn_name = protein_trimmed.columns[index]\n",
    "    diffeq_ptns.append(ptn_name)"
   ]
  },
  {
   "cell_type": "code",
   "execution_count": 148,
   "id": "1e1437cc",
   "metadata": {},
   "outputs": [],
   "source": [
    "# find top 5 most differentially expressed RNA between stage i and stage iii\n",
    "stage_i_rna = rna_data.loc[stage_i_mask, :]\n",
    "stage_iii_rna = rna_data.loc[stage_iii_mask, :]\n",
    "\n",
    "# compute mean expression of every protein within each group\n",
    "stage_i_rna_means = stage_i_rna.mean(axis = 0, skipna = True)\n",
    "stage_iii_rna_means = stage_iii_rna.mean(axis = 0, skipna = True)\n",
    "\n",
    "# compute difference in mean protein expression between groups\n",
    "diff_mean_rna_exp = stage_i_rna_means - stage_iii_rna_means\n",
    "diff_mean_rna_exp = np.asarray(diff_mean_rna_exp)\n",
    "\n",
    "# converting NA values to 0 in order to compute maximum\n",
    "np.nan_to_num(diff_mean_rna_exp, copy=False)\n",
    "\n",
    "# find top 5 most differentially expressed proteins\n",
    "rna_col_indices = []\n",
    "for i in range(5):\n",
    "    max_index = diff_mean_rna_exp.argmax()\n",
    "    rna_col_indices.append(max_index)\n",
    "    diff_mean_rna_exp[max_index] = 0\n",
    "    \n",
    "diffeq_rnas = []\n",
    "for index in ptn_col_indices:\n",
    "    rna_name = rna_data.columns[index]\n",
    "    diffeq_rnas.append(rna_name)"
   ]
  },
  {
   "cell_type": "code",
   "execution_count": 149,
   "id": "db78ebfd",
   "metadata": {
    "scrolled": true
   },
   "outputs": [
    {
     "name": "stdout",
     "output_type": "stream",
     "text": [
      "['FTL', 'HBZ', 'HBA2', 'CMA1', 'HBB']\n",
      "['EVI2B', 'GAPDH', 'GALNT2', 'CENPB', 'GALNT4']\n"
     ]
    }
   ],
   "source": [
    "print(diffeq_ptns)\n",
    "print(diffeq_rnas)"
   ]
  },
  {
   "cell_type": "markdown",
   "id": "8146ce87",
   "metadata": {},
   "source": [
    "**2)** Create a new dataframe of your select features, where the rows are the patients and the columns are the expression values of genes you selected in step 1 (X data)."
   ]
  },
  {
   "cell_type": "code",
   "execution_count": 150,
   "id": "7d66b651",
   "metadata": {},
   "outputs": [],
   "source": [
    "# subsetting protein columns\n",
    "X_features = protein_trimmed[['FTL', 'HBZ', 'HBA2', 'CMA1', 'HBB']]\n",
    "\n",
    "# subsetting rna columns\n",
    "X_features.insert(len(X_features.columns), 'EVI2B', rna_data.loc[:, 'EVI2B'])\n",
    "X_features.insert(len(X_features.columns), 'GAPDH', rna_data.loc[:, 'GAPDH'])\n",
    "X_features.insert(len(X_features.columns), 'GALNT2', rna_data.loc[:, 'GALNT2'])\n",
    "X_features.insert(len(X_features.columns), 'CENPB', rna_data.loc[:, 'CENPB'])\n",
    "X_features.insert(len(X_features.columns), 'GALNT4', rna_data.loc[:, 'GALNT4'])"
   ]
  },
  {
   "cell_type": "markdown",
   "id": "8f9a1806",
   "metadata": {},
   "source": [
    "**3)** Create a separate list of the patients' cancer stages, i.e. tumor_stage_pathological (y data)."
   ]
  },
  {
   "cell_type": "code",
   "execution_count": 151,
   "id": "54a3531e",
   "metadata": {},
   "outputs": [],
   "source": [
    "tumor_stages = clinical_trimmed.loc[:, \"tumor_stage_pathological\"]"
   ]
  },
  {
   "cell_type": "markdown",
   "id": "a8bfd206",
   "metadata": {},
   "source": [
    "**4)** Scale and encode your features and target."
   ]
  },
  {
   "cell_type": "code",
   "execution_count": 152,
   "id": "1a963674",
   "metadata": {},
   "outputs": [],
   "source": [
    "from sklearn.preprocessing import StandardScaler\n",
    "from sklearn.preprocessing import LabelEncoder\n",
    "\n",
    "scaler = StandardScaler()\n",
    "encoder = LabelEncoder()\n",
    "\n",
    "scaled_data = scaler.fit_transform(X_features)\n",
    "encoded_stages = encoder.fit_transform(tumor_stages)"
   ]
  },
  {
   "cell_type": "markdown",
   "id": "2d3d32ed",
   "metadata": {},
   "source": [
    "**5)** Create a train test split of your X and y data with train_size=0.7."
   ]
  },
  {
   "cell_type": "code",
   "execution_count": 153,
   "id": "f5bbf487",
   "metadata": {},
   "outputs": [],
   "source": [
    "from sklearn.model_selection import train_test_split\n",
    "\n",
    "X_train, X_test, y_train, y_test = train_test_split(X_features, encoded_stages, train_size=0.7)"
   ]
  },
  {
   "cell_type": "markdown",
   "id": "e91a113f",
   "metadata": {},
   "source": [
    "**6)** Write code to test the accuracy of all 4 classification models we covered in this class (i.e. KNeighborsClassifier, DecisionTreeClassifier, and MLPClassifier, GaussianNB). Since the accuracy of the models will change depending on the train-test split, you will need to run each model 10 times and find the average accuracy between all runs."
   ]
  },
  {
   "cell_type": "code",
   "execution_count": 154,
   "id": "6061c2c2",
   "metadata": {},
   "outputs": [],
   "source": [
    "from sklearn.neighbors import KNeighborsClassifier\n",
    "from sklearn.tree import DecisionTreeClassifier\n",
    "from sklearn.neural_network import MLPClassifier\n",
    "from sklearn.naive_bayes import GaussianNB"
   ]
  },
  {
   "cell_type": "code",
   "execution_count": 155,
   "id": "dd3be2bc",
   "metadata": {
    "scrolled": true
   },
   "outputs": [],
   "source": [
    "# run each model 10 times and find average accuracy between all runs\n",
    "classifiers = [KNeighborsClassifier(),\n",
    "              DecisionTreeClassifier(),\n",
    "              MLPClassifier(),\n",
    "              GaussianNB()]\n",
    "classifiers_names = ['Nearest Neighbors',\n",
    "                    'Decision Tree',\n",
    "                    'Multilayer Perceptron',\n",
    "                    'Naive-Bayes']\n",
    "classifiers_accuracy = []\n",
    "\n",
    "# iterate through list of classification methods\n",
    "for i in range(4):\n",
    "    classifier = classifiers[i]\n",
    "    accuracies = []\n",
    "    \n",
    "    # run each model 10 times\n",
    "    for i in range(10):\n",
    "        classifier.fit(X_train, y_train)\n",
    "        y_pred = classifier.predict(X_test)\n",
    "        \n",
    "        accuracy = sum(y_pred == y_test) / len(y_test)\n",
    "        accuracies.append(accuracy * 100)\n",
    "        \n",
    "    classifiers_accuracy.append(np.mean(accuracies))"
   ]
  },
  {
   "cell_type": "markdown",
   "id": "0f54d610",
   "metadata": {},
   "source": [
    "**7)** Compare the 4 mean accuracies and identify which model is best."
   ]
  },
  {
   "cell_type": "code",
   "execution_count": 156,
   "id": "7241fa07",
   "metadata": {},
   "outputs": [
    {
     "name": "stdout",
     "output_type": "stream",
     "text": [
      "After 10 simulations, the average accuracy for each classification model is as follows:\n",
      "Nearest Neighbors: 67.85714285714286%\n",
      "Decision Tree: 61.25%\n",
      "Multilayer Perceptron: 69.28571428571428%\n",
      "Naive-Bayes: 69.64285714285714%\n"
     ]
    }
   ],
   "source": [
    "print('After 10 simulations, the average accuracy for each classification model is as follows:')\n",
    "for i in range(4):\n",
    "    print(f'{classifiers_names[i]}: {classifiers_accuracy[i]}%')"
   ]
  },
  {
   "cell_type": "markdown",
   "id": "bae07b35",
   "metadata": {},
   "source": [
    "Comparing the mean accuracies between the 4 classification models, the Naive-Bayes classification model is best for this data. The Multilayer Perceptron was a close second-best choice of model for this data."
   ]
  }
 ],
 "metadata": {
  "kernelspec": {
   "display_name": "Python 3 (ipykernel)",
   "language": "python",
   "name": "python3"
  },
  "language_info": {
   "codemirror_mode": {
    "name": "ipython",
    "version": 3
   },
   "file_extension": ".py",
   "mimetype": "text/x-python",
   "name": "python",
   "nbconvert_exporter": "python",
   "pygments_lexer": "ipython3",
   "version": "3.11.5"
  }
 },
 "nbformat": 4,
 "nbformat_minor": 5
}
